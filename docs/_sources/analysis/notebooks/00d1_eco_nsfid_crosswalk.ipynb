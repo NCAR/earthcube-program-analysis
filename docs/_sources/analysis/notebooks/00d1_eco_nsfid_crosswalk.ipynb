{
 "cells": [
  {
   "cell_type": "markdown",
   "id": "461f60e2-6e18-41bb-a30f-f478d4946b5a",
   "metadata": {},
   "source": [
    "# ECO Project Crosswalks"
   ]
  },
  {
   "cell_type": "code",
   "execution_count": 1,
   "id": "6a946106-85f2-4bd7-935f-9e23c4c6a24f",
   "metadata": {},
   "outputs": [],
   "source": [
    "import csv"
   ]
  },
  {
   "cell_type": "code",
   "execution_count": 2,
   "id": "32b2b887-261a-4dbe-9305-dcb15dd156fa",
   "metadata": {},
   "outputs": [
    {
     "name": "stdout",
     "output_type": "stream",
     "text": [
      "[warn]: empty input ''\n",
      "[warn]: empty input ''\n"
     ]
    }
   ],
   "source": [
    "with open(\"../inputs/eco_funded_project_list.csv\", encoding='latin-1') as f, \\\n",
    "     open(\"../outputs/eco_funded_project_list.tsv\", \"w\", encoding='utf-8') as fo:\n",
    "    fo.write(\"nsfid\\tshortname\\tprogram\\n\")\n",
    "    reader = csv.reader(f)\n",
    "    for row in reader:\n",
    "        project_ids = row[0].split(',')\n",
    "        for i in project_ids:\n",
    "            try:\n",
    "                int(i)\n",
    "                try:\n",
    "                    row[2][-1].encode('utf-8').decode('ascii')\n",
    "                    fo.write(f\"{i.strip()}\\t{row[1].strip()}\\t{row[2].strip()}\\n\")\n",
    "                except:\n",
    "                    fo.write(f\"{i.strip()}\\t{row[1].strip()}\\t{row[2][:-1].strip()}\\n\")\n",
    "            except:\n",
    "                print(f\"[warn]: empty input '{i}'\")\n",
    "                pass"
   ]
  },
  {
   "cell_type": "code",
   "execution_count": null,
   "id": "703c1bf6-290b-4343-9370-0f0442bbc7fc",
   "metadata": {},
   "outputs": [],
   "source": []
  }
 ],
 "metadata": {
  "kernelspec": {
   "display_name": "Python 3 (ipykernel)",
   "language": "python",
   "name": "python3"
  },
  "language_info": {
   "codemirror_mode": {
    "name": "ipython",
    "version": 3
   },
   "file_extension": ".py",
   "mimetype": "text/x-python",
   "name": "python",
   "nbconvert_exporter": "python",
   "pygments_lexer": "ipython3",
   "version": "3.8.11"
  }
 },
 "nbformat": 4,
 "nbformat_minor": 5
}
