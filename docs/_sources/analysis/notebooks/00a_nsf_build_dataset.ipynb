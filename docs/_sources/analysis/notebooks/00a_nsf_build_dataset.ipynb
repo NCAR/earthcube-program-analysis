{
 "cells": [
  {
   "cell_type": "markdown",
   "id": "9e46ff13-f221-4126-bc87-ac6799bf22ba",
   "metadata": {},
   "source": [
    "# EXTRACT NSF AWARDS METADATA"
   ]
  },
  {
   "cell_type": "markdown",
   "id": "8a5c2aa8-602e-4627-9838-a0cc3be03225",
   "metadata": {},
   "source": [
    "This notebook pulls raw data from the NSF awards database and stores the output data in \n",
    "\n",
    "* [`outputs/nsf/data_full_dump.json`](outputs/nsf/data_full_dump.json)  \n",
    "\n",
    "It uses the input file\n",
    "\n",
    "* [`inputs/q12022_id_to_org_mapping_revised.json`](inputs/q12022_id_to_org_mapping_revised.json)  \n",
    "\n",
    "as the input mappings for the EarthCube funded projects."
   ]
  },
  {
   "cell_type": "code",
   "execution_count": 2,
   "id": "6102755b-5192-46a6-be8a-c197ca1425f8",
   "metadata": {},
   "outputs": [],
   "source": [
    "from nsfawards import get_nsf_data\n",
    "import json"
   ]
  },
  {
   "cell_type": "markdown",
   "id": "bce8a68d-ac9d-4bcd-a881-6dbcb9d9006e",
   "metadata": {},
   "source": [
    "The original mapping of programs to their names is in the file :\n",
    "\n",
    "* [../inputs/q12022_id_to_org_mapping_revised.json](../inputs/q12022_id_to_org_mapping_revised.json)"
   ]
  },
  {
   "cell_type": "code",
   "execution_count": 2,
   "id": "e15fd5f0-c28b-44b9-b65f-0d25bc61b090",
   "metadata": {},
   "outputs": [],
   "source": [
    "id_map = json.load(open(\"../inputs/q12022_id_to_org_mapping_revised.json\"))"
   ]
  },
  {
   "cell_type": "markdown",
   "id": "ad072bba-21f1-445f-b2a8-4da200b653d5",
   "metadata": {},
   "source": [
    "We will grab all the following fields from the NSF API (specified in [nsfawards.py](nsfawards.py)):\n",
    "\n",
    "* estimatedTotalAmt\n",
    "* estimatedTotalAmt\n",
    "* fundProgramName\n",
    "* primaryProgram\n",
    "* title\n",
    "* awardee\n",
    "* publicationResearch\n",
    "* publicationConference\n",
    "* projectOutComesReport\n",
    "* abstractText\n",
    "* dateStart\n",
    "* expDate\n",
    "* fundsObligatedAmt\n",
    "* id\n"
   ]
  },
  {
   "cell_type": "code",
   "execution_count": 3,
   "id": "05390101-26fd-4136-93c3-07dd73f10cbd",
   "metadata": {},
   "outputs": [
    {
     "name": "stdout",
     "output_type": "stream",
     "text": [
      "\n",
      ".......................................................................................................................................................................................................................--\n",
      "215 program IDs found\n",
      "Saving to file ../outputs/nsf/data_full_dump.json\n"
     ]
    }
   ],
   "source": [
    "BE_NICE = 1 # the delay between API calls\n",
    "print()\n",
    "import time\n",
    "\n",
    "id_nsf_map = {}\n",
    "for k in id_map.keys():\n",
    "    k = k.strip()\n",
    "    if k:\n",
    "        payload = get_nsf_data(k)\n",
    "        id_nsf_map[k] = payload\n",
    "        time.sleep(BE_NICE)\n",
    "        print(\".\",end=\"\")\n",
    "\n",
    "print(\"--\")\n",
    "print(f\"{len(id_nsf_map.keys())} program IDs found\")\n",
    "\n",
    "outfile = \"../outputs/nsf/data_full_dump.json\"\n",
    "print(f\"Saving to file {outfile}\")\n",
    "json.dump(id_nsf_map, open(outfile,\"w\"))"
   ]
  }
 ],
 "metadata": {
  "kernelspec": {
   "display_name": "Python 3 (ipykernel)",
   "language": "python",
   "name": "python3"
  },
  "language_info": {
   "codemirror_mode": {
    "name": "ipython",
    "version": 3
   },
   "file_extension": ".py",
   "mimetype": "text/x-python",
   "name": "python",
   "nbconvert_exporter": "python",
   "pygments_lexer": "ipython3",
   "version": "3.8.11"
  }
 },
 "nbformat": 4,
 "nbformat_minor": 5
}
