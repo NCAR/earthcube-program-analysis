{
 "cells": [
  {
   "cell_type": "markdown",
   "id": "67d9bfd0-09d4-4822-b718-45048995d96f",
   "metadata": {
    "tags": []
   },
   "source": [
    "# Project Title Normalization\n",
    "\n",
    "Manual crosswalk normalization had to be performed to make sure that the projects that were in the original EC data matched up with those in NSF data.  There were discrepancies in titles (mostly due to administrative convenience), requiring title normalization before proceeding.\n",
    "\n",
    "* [the crosswalk file `inputs/081922_title_crosswalk.csv`](./081922_title_crosswalk.csv) was created **manually** to normalize titles (project ids the same) for joining\n",
    "* the corresponding [output file `outputs/nsf/nsfid_project_title_normed.csv`](../outputs/nsf/nsfid_project_title_normed.csv) provides the crosswalk for the normalized titles used in further analysis"
   ]
  },
  {
   "cell_type": "code",
   "execution_count": 1,
   "id": "eb5ab657-8594-461b-b093-93d7975d5696",
   "metadata": {},
   "outputs": [],
   "source": [
    "import pandas as pd\n",
    "from datetime import datetime\n",
    "from datetime import timedelta"
   ]
  },
  {
   "cell_type": "code",
   "execution_count": 2,
   "id": "7098e9ff-d284-4751-b56c-820c31bba968",
   "metadata": {},
   "outputs": [],
   "source": [
    "df_nsf = pd.read_json(\"../outputs/nsf/data_full_dump.json\").T"
   ]
  },
  {
   "cell_type": "code",
   "execution_count": 3,
   "id": "adc5e794-1a8b-4a22-a197-5f98fe0812ff",
   "metadata": {},
   "outputs": [
    {
     "data": {
      "text/plain": [
       "Index(['abstractText', 'estimatedTotalAmt', 'fundsObligatedAmt',\n",
       "       'fundProgramName', 'id', 'projectOutComesReport', 'publicationResearch',\n",
       "       'startDate', 'expDate', 'title', 'awardee'],\n",
       "      dtype='object')"
      ]
     },
     "execution_count": 3,
     "metadata": {},
     "output_type": "execute_result"
    }
   ],
   "source": [
    "df_nsf.columns"
   ]
  },
  {
   "cell_type": "code",
   "execution_count": 4,
   "id": "de7a4d35-53cf-4f72-ba6b-4df25861b97e",
   "metadata": {},
   "outputs": [],
   "source": [
    "df_nsf.startDate = pd.to_datetime(df_nsf.startDate)\n",
    "df_nsf.expDate = pd.to_datetime(df_nsf.expDate)"
   ]
  },
  {
   "cell_type": "code",
   "execution_count": 5,
   "id": "008e8a8c-512a-41fd-9b1d-33375d510567",
   "metadata": {},
   "outputs": [
    {
     "data": {
      "text/plain": [
       "Index(['abstractText', 'estimatedTotalAmt', 'fundsObligatedAmt',\n",
       "       'fundProgramName', 'id', 'projectOutComesReport', 'publicationResearch',\n",
       "       'startDate', 'expDate', 'title', 'awardee'],\n",
       "      dtype='object')"
      ]
     },
     "execution_count": 5,
     "metadata": {},
     "output_type": "execute_result"
    }
   ],
   "source": [
    "df_nsf.columns"
   ]
  },
  {
   "cell_type": "code",
   "execution_count": 6,
   "id": "0ee7c068-0623-4630-837b-f266ed20606c",
   "metadata": {},
   "outputs": [
    {
     "name": "stdout",
     "output_type": "stream",
     "text": [
      "|         | title                                   | expDate             |\n",
      "|--------:|:----------------------------------------|:--------------------|\n",
      "| 1623751 | EarthCube Science Support Office (ESSO) | 2019-10-31 00:00:00 |\n",
      "| 1928208 | Geosciences EarthCube Community Office  | 2023-01-31 00:00:00 |\n"
     ]
    }
   ],
   "source": [
    "print(df_nsf[df_nsf.title.str.lower().str.contains(\"office\")][['title', 'expDate']].to_markdown())"
   ]
  },
  {
   "cell_type": "code",
   "execution_count": 7,
   "id": "b3a0838a-38c1-415b-bc94-1129c3e2f5bf",
   "metadata": {},
   "outputs": [],
   "source": [
    "df_nsf['title_normed'] = df_nsf.title.str.replace(r'\\s\\s+', ' ', regex=True).str.lower()"
   ]
  },
  {
   "cell_type": "code",
   "execution_count": 8,
   "id": "29dbc944-8766-427a-ae84-0bf546c045ab",
   "metadata": {},
   "outputs": [
    {
     "data": {
      "text/html": [
       "<div>\n",
       "<style scoped>\n",
       "    .dataframe tbody tr th:only-of-type {\n",
       "        vertical-align: middle;\n",
       "    }\n",
       "\n",
       "    .dataframe tbody tr th {\n",
       "        vertical-align: top;\n",
       "    }\n",
       "\n",
       "    .dataframe thead th {\n",
       "        text-align: right;\n",
       "    }\n",
       "</style>\n",
       "<table border=\"1\" class=\"dataframe\">\n",
       "  <thead>\n",
       "    <tr style=\"text-align: right;\">\n",
       "      <th></th>\n",
       "      <th>title</th>\n",
       "      <th>title_normed</th>\n",
       "    </tr>\n",
       "  </thead>\n",
       "  <tbody>\n",
       "    <tr>\n",
       "      <th>1324760</th>\n",
       "      <td>RCN:   Building a Sediment Experimentalist Net...</td>\n",
       "      <td>rcn: building a sediment experimentalist netwo...</td>\n",
       "    </tr>\n",
       "    <tr>\n",
       "      <th>1340233</th>\n",
       "      <td>EarthCube Test Enterprise Governance:   An Agi...</td>\n",
       "      <td>earthcube test enterprise governance: an agile...</td>\n",
       "    </tr>\n",
       "    <tr>\n",
       "      <th>1340265</th>\n",
       "      <td>EC3 - Earth-Centered Communication for Cyberin...</td>\n",
       "      <td>ec3 - earth-centered communication for cyberin...</td>\n",
       "    </tr>\n",
       "    <tr>\n",
       "      <th>1340301</th>\n",
       "      <td>EarthCube RCN:   C4P:   Collaboration and Cybe...</td>\n",
       "      <td>earthcube rcn: c4p: collaboration and cyberinf...</td>\n",
       "    </tr>\n",
       "    <tr>\n",
       "      <th>1343661</th>\n",
       "      <td>EarthCube Conceptual Design:  A Scalable Commu...</td>\n",
       "      <td>earthcube conceptual design: a scalable commun...</td>\n",
       "    </tr>\n",
       "    <tr>\n",
       "      <th>...</th>\n",
       "      <td>...</td>\n",
       "      <td>...</td>\n",
       "    </tr>\n",
       "    <tr>\n",
       "      <th>2126449</th>\n",
       "      <td>Collaborative Research: EarthCube Capabilities...</td>\n",
       "      <td>collaborative research: earthcube capabilities...</td>\n",
       "    </tr>\n",
       "    <tr>\n",
       "      <th>2126503</th>\n",
       "      <td>Collaborative Research: EarthCube Capabilities...</td>\n",
       "      <td>collaborative research: earthcube capabilities...</td>\n",
       "    </tr>\n",
       "    <tr>\n",
       "      <th>2127606</th>\n",
       "      <td>Collaborative Research: EarthCube Capabilities...</td>\n",
       "      <td>collaborative research: earthcube capabilities...</td>\n",
       "    </tr>\n",
       "    <tr>\n",
       "      <th>2126468</th>\n",
       "      <td>Collaborative Research: EarthCube Capabilities...</td>\n",
       "      <td>collaborative research: earthcube capabilities...</td>\n",
       "    </tr>\n",
       "    <tr>\n",
       "      <th>2126510</th>\n",
       "      <td>EarthCube Capabilities: PaleoCube: Enabling Cl...</td>\n",
       "      <td>earthcube capabilities: paleocube: enabling cl...</td>\n",
       "    </tr>\n",
       "  </tbody>\n",
       "</table>\n",
       "<p>215 rows × 2 columns</p>\n",
       "</div>"
      ],
      "text/plain": [
       "                                                     title  \\\n",
       "1324760  RCN:   Building a Sediment Experimentalist Net...   \n",
       "1340233  EarthCube Test Enterprise Governance:   An Agi...   \n",
       "1340265  EC3 - Earth-Centered Communication for Cyberin...   \n",
       "1340301  EarthCube RCN:   C4P:   Collaboration and Cybe...   \n",
       "1343661  EarthCube Conceptual Design:  A Scalable Commu...   \n",
       "...                                                    ...   \n",
       "2126449  Collaborative Research: EarthCube Capabilities...   \n",
       "2126503  Collaborative Research: EarthCube Capabilities...   \n",
       "2127606  Collaborative Research: EarthCube Capabilities...   \n",
       "2126468  Collaborative Research: EarthCube Capabilities...   \n",
       "2126510  EarthCube Capabilities: PaleoCube: Enabling Cl...   \n",
       "\n",
       "                                              title_normed  \n",
       "1324760  rcn: building a sediment experimentalist netwo...  \n",
       "1340233  earthcube test enterprise governance: an agile...  \n",
       "1340265  ec3 - earth-centered communication for cyberin...  \n",
       "1340301  earthcube rcn: c4p: collaboration and cyberinf...  \n",
       "1343661  earthcube conceptual design: a scalable commun...  \n",
       "...                                                    ...  \n",
       "2126449  collaborative research: earthcube capabilities...  \n",
       "2126503  collaborative research: earthcube capabilities...  \n",
       "2127606  collaborative research: earthcube capabilities...  \n",
       "2126468  collaborative research: earthcube capabilities...  \n",
       "2126510  earthcube capabilities: paleocube: enabling cl...  \n",
       "\n",
       "[215 rows x 2 columns]"
      ]
     },
     "execution_count": 8,
     "metadata": {},
     "output_type": "execute_result"
    }
   ],
   "source": [
    "df_nsf[['title', 'title_normed']]"
   ]
  },
  {
   "cell_type": "code",
   "execution_count": 9,
   "id": "a1276ca7-1832-4433-9f94-636c3b7c722c",
   "metadata": {},
   "outputs": [
    {
     "data": {
      "text/plain": [
       "Index(['old_name', 'new_name'], dtype='object')"
      ]
     },
     "execution_count": 9,
     "metadata": {},
     "output_type": "execute_result"
    }
   ],
   "source": [
    "df_crosswalk = pd.read_csv(\"../inputs/081922_title_crosswalk.csv\")\n",
    "df_crosswalk.columns"
   ]
  },
  {
   "cell_type": "code",
   "execution_count": 10,
   "id": "da6d9c9d-9275-4e13-a422-0720d9c42541",
   "metadata": {},
   "outputs": [],
   "source": [
    "# df_nsf_normed_titles = df_nsf.title.str.replace(r'\\s\\s+', ' ', regex=True).str.lower().reset_index()"
   ]
  },
  {
   "cell_type": "code",
   "execution_count": 11,
   "id": "3d2821e3-c15b-4f50-86a4-211495b70d7e",
   "metadata": {},
   "outputs": [],
   "source": [
    "df_crosswalk_tmp = \\\n",
    "    df_crosswalk\\\n",
    "        .merge(df_nsf, left_on='old_name', right_on='title_normed')\\\n",
    "        .drop(['old_name', 'title_normed'], axis=1)\\\n",
    "        .rename(columns={'new_name': 'title_normed'})\n",
    "\n",
    "df_crosswalk_tmp.index = df_crosswalk_tmp.id\n",
    "df_crosswalk_tmp.index.name = None\n",
    "df_crosswalk_tmp.title_normed  = df_crosswalk_tmp.title_normed.apply(lambda d: \"*\"+d)\n",
    "\n",
    "df_nsf_normed = pd.concat([df_nsf, df_crosswalk_tmp]) \\\n",
    "    .drop_duplicates('id', keep='last') \n",
    "\n",
    "# cleanup\n",
    "del df_crosswalk_tmp\n",
    "\n",
    "df_nsf_normed.title_normed = df_nsf_normed.title_normed.apply(lambda d: d[1:].title() if d[0] == '*' else d.title())\n",
    "\n",
    "# dump the file and cleanup\n",
    "df_nsf_normed.sort_values('title_normed')[['title_normed']].to_csv(\"../outputs/nsf/nsfid_project_title_normed.csv\")"
   ]
  },
  {
   "cell_type": "markdown",
   "id": "4b74cdaf-84df-44ce-b34c-9e1a9a5c41a9",
   "metadata": {},
   "source": [
    "The file will now be use for all future use mapping data using titles."
   ]
  }
 ],
 "metadata": {
  "kernelspec": {
   "display_name": "Python 3 (ipykernel)",
   "language": "python",
   "name": "python3"
  },
  "language_info": {
   "codemirror_mode": {
    "name": "ipython",
    "version": 3
   },
   "file_extension": ".py",
   "mimetype": "text/x-python",
   "name": "python",
   "nbconvert_exporter": "python",
   "pygments_lexer": "ipython3",
   "version": "3.8.11"
  }
 },
 "nbformat": 4,
 "nbformat_minor": 5
}
