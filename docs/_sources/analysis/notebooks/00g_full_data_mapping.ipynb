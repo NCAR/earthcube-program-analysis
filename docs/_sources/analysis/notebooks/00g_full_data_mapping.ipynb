{
 "cells": [
  {
   "cell_type": "markdown",
   "id": "2b890e03-ae56-491f-b05e-4ab8dda109c5",
   "metadata": {},
   "source": [
    "# Full Data Mapping"
   ]
  },
  {
   "cell_type": "markdown",
   "id": "d5b056d0-1785-4d10-a008-35ea532934f2",
   "metadata": {},
   "source": [
    "Because there are two input sources: the data directly from the NSF, and the data from the EC community publication survey, it is important to reconcile the difference.\n",
    "\n",
    "This notebook takes as input:\n",
    "\n",
    "* the original DOIs found and their project ID mapping: [nsf_doi_project_summary.tsv](../outputs/nsf/nsf_doi_project_summary.tsv)\n",
    "* the original survey spreadsheet DOIs: [ec_survey_project_doi_mapping.tsv](../outputs/ec_survey_project_doi_mapping.tsv)\n",
    "* the validated DOI list from all found DOIs: [doi_project_program_detail.csv](../outputs/doi_project_program_detail.csv)\n",
    "* the original NSF mapping (the authoritative source of all metadata): [nsf_mapping.json](../outputs/nsf/nsf_mapping.json)\n"
   ]
  },
  {
   "cell_type": "code",
   "execution_count": 1,
   "id": "cfaef541-20ad-4a6e-bdde-64e46e003b8f",
   "metadata": {},
   "outputs": [],
   "source": [
    "import pandas as pd\n",
    "import datacite\n",
    "import crossref\n",
    "import json"
   ]
  },
  {
   "cell_type": "markdown",
   "id": "8ef6a43a-4ff7-48e6-b8a3-ceab75eefcff",
   "metadata": {},
   "source": [
    "## Finding Survey DOIs not in NSF list"
   ]
  },
  {
   "cell_type": "code",
   "execution_count": 2,
   "id": "611ceb21-d962-4434-9d34-abcb1f45fd0d",
   "metadata": {},
   "outputs": [],
   "source": [
    "df_nsf = pd.read_csv(\"../outputs/nsf/nsf_doi_project_summary.tsv\", sep='\\t')\n",
    "df_survey = pd.read_csv(\"../outputs/ec_survey_project_doi_mapping.tsv\", sep='\\t')"
   ]
  },
  {
   "cell_type": "code",
   "execution_count": 3,
   "id": "4400dcb2-37a1-4332-b071-009ecb839a20",
   "metadata": {},
   "outputs": [],
   "source": [
    "df_all_found_dois = \\\n",
    "    pd.read_csv(\"../outputs/nsf/nsf_doi_project_summary.tsv\", sep='\\t')\\\n",
    "    .loc[:,['doi', 'cites']]\\\n",
    "    .drop_duplicates()\n",
    "df_all_found_dois.cites = df_all_found_dois.cites.replace('--', -1).astype(int)"
   ]
  },
  {
   "cell_type": "code",
   "execution_count": 4,
   "id": "7e3c0b4f-592a-4439-bd26-7101af58e858",
   "metadata": {},
   "outputs": [],
   "source": [
    "# dois only in the original nsf extracion which had -1 flag\n",
    "orphan_doi_list  =  df_all_found_dois.query(\"cites <0\").doi.drop_duplicates().dropna().to_list()"
   ]
  },
  {
   "cell_type": "code",
   "execution_count": 5,
   "id": "078ece15-fa16-4f3b-927c-521492ce23bb",
   "metadata": {},
   "outputs": [],
   "source": [
    "# dois only in the survey that weren't in the original nsf extraction\n",
    "survey_only_doi_list =  set(df_survey.doi).difference(set(df_all_found_dois.doi))"
   ]
  },
  {
   "cell_type": "markdown",
   "id": "44310911-b42b-4e98-a613-cb111e0c37fb",
   "metadata": {},
   "source": [
    "### THIS IS WHAT I WAS MISSING!!!\n",
    "set(dc_original_list).difference(set(orphan_doi_list).union(survey_only_doi_list))"
   ]
  },
  {
   "cell_type": "code",
   "execution_count": 6,
   "id": "df085a3a-22da-4a99-aeca-50fdbf595b09",
   "metadata": {},
   "outputs": [
    {
     "data": {
      "text/plain": [
       "35"
      ]
     },
     "execution_count": 6,
     "metadata": {},
     "output_type": "execute_result"
    }
   ],
   "source": [
    "# the difference is the set we're looking for\n",
    "missing_dois = set(orphan_doi_list).union(survey_only_doi_list)\n",
    "\n",
    "# #for testing only\n",
    "# dc_original_list = list(json.load(open(\"../inputs/datacite_metadata_20220525174139.json\")).keys())\n",
    "# set(dc_original_list).difference(missing_dois)\n",
    "\n",
    "len(missing_dois) # 36 missing DOIs"
   ]
  },
  {
   "cell_type": "markdown",
   "id": "9d32d40e-f927-41c9-8870-46ecde85dc1d",
   "metadata": {},
   "source": [
    "### (MOVE)FINDING DATACITE DOIS\n",
    "\n",
    "* find those things in the survey NOT in NSF data"
   ]
  },
  {
   "cell_type": "markdown",
   "id": "12a7f571-88a5-41e0-a4b4-e56fcb9eb8b1",
   "metadata": {},
   "source": [
    "for doi in survey_only_doi_list:\n",
    "    dc_meta = datacite.get_metadata(doi)\n",
    "    if dc_meta:\n",
    "        print(f\"{doi}: has datacite meta (NSF: {df_survey[df_survey[1]==doi][0].values})\")\n",
    "    else:\n",
    "        cr_meta = crossref.get_metadata(doi)\n",
    "        if cr_meta:\n",
    "            print(f\"{doi}: has crossref meta (NSF: {df_survey[df_survey[1]==doi][0].values})\")\n",
    "        else:\n",
    "            print(f\"{doi}: NO meta\")"
   ]
  },
  {
   "cell_type": "markdown",
   "id": "6bdeb1bf-4c37-4876-aa4c-1089ef6a1bd0",
   "metadata": {},
   "source": [
    "## Restore missing DOIs to back to the original NSF map data"
   ]
  },
  {
   "cell_type": "code",
   "execution_count": 7,
   "id": "67f9cbcd-bbcc-43ca-9b9b-60972cdc6daf",
   "metadata": {},
   "outputs": [],
   "source": [
    "df_project_mapping = json.load(open(\"../outputs/nsf/nsf_mapping.json\"))"
   ]
  },
  {
   "cell_type": "code",
   "execution_count": 8,
   "id": "caf7116e-a107-4e4f-81a1-502f8b470e8d",
   "metadata": {},
   "outputs": [
    {
     "name": "stdout",
     "output_type": "stream",
     "text": [
      "*1639750 ==> 10.1142/s1793351x22400025\n",
      "[skipping] 10.6084/m9.figshare.14848713.v1 is a duplicate\n",
      "[skipping] 10.5555/3319379.3319381 is a duplicate\n",
      "*1541390 ==> 10.18739/a24m9198b\n",
      "*1929773 ==> 10.3389/fclim.2021.763420\n",
      "+1743321 ==> 10.3389/fspas.2022.816523\n",
      "*1440066 ==> 10.13140/rg.2.1.4908.4561\n",
      "+1343785 ==> 10.1111/1752-1688.12437\n",
      "*1639675 ==> 10.1109/igarss.2017.8126974\n",
      "[skipping] 10.1594/ieda/100691 is a duplicate\n",
      "[skipping] 10.2110/sedred.2013.4 is a duplicate\n",
      "*1639764 ==> 10.1594/pangaea.892680\n",
      "[skipping] 10.5281/zenodo.5496306 is a duplicate\n",
      "[] not a cr DOI\n",
      "+1740595 ==> 10.1002/rse2.240\n",
      "*1440351 ==> 10.6084/m9.figshare.4272164.v1\n",
      "[skipping] 10.1594/ieda/100709 is a duplicate\n",
      "[skipping] 10.1002/hyp10899 is a duplicate\n",
      "+1541057 ==> 10.1051/swsc/2020011\n",
      "+1343802 ==> 10.1109/bigdata.2015.7363976\n",
      "+1324760 ==> 10.1029/2021ef002088\n",
      "*1928393 ==> 10.5281/zenodo.4558266\n",
      "*1639694 ==> 10.5065/p2jj-9878\n",
      "+1324760 ==> 10.1029/2017jf004576\n",
      "*1440221 ==> 10.1007/978-3-319-33245-1\n",
      "+1440066 ==> 10.17504/protocols.io.fjjbkkn\n",
      "*1928393 ==> 10.5281/zenodo.6369184\n",
      "+1639588 ==> 10.3389/fmicb.2021.765268\n",
      "+1541390 ==> 10.3389/fmars.2019.00138\n",
      "+1929773 ==> 10.17351/ests2021.769\n",
      "*1541028 ==> 10.3897/biss.2.26644\n",
      "+1340265 ==> 10.1130/2022.2558(01)\n",
      "+1639694 ==> 10.1016/j.dib.2022.107824\n",
      "+1541028 ==> 10.1130/abs/2017am-298208\n",
      "+1639694 ==> 10.1016/j.cageo.2019.07.003\n",
      "CPU times: total: 2.5 s\n",
      "Wall time: 49.9 s\n"
     ]
    }
   ],
   "source": [
    "%%time\n",
    "for doi in missing_dois:\n",
    "    nsfid = str(df_survey[df_survey.doi==doi].nsfid.values[0])\n",
    "    if not nsfid:\n",
    "        print(doi, \"does not have an nsfid\")\n",
    "    try:\n",
    "        current_dois = [d['doi'].lower() for d in df_project_mapping[nsfid]] \n",
    "        if doi in current_dois:\n",
    "            print(f\"[skipping] {doi} is a duplicate\")\n",
    "        else:\n",
    "            cr_meta = crossref.get_metadata(doi)\n",
    "            if cr_meta: \n",
    "                item = {}\n",
    "\n",
    "                item['citation'] = \"--\"\n",
    "                item['doi'] = doi\n",
    "                item['cr_meta'] = cr_meta\n",
    "                item['cites'] = cr_meta['is-referenced-by-count']\n",
    "                item['ams_bib'] = crossref.get_bib_citation(doi).decode('utf-8')\n",
    "\n",
    "                df_project_mapping[nsfid].append(item)\n",
    "                print(f\"+{nsfid} ==> {doi}\")\n",
    "            else:\n",
    "                print(\"[] not a cr DOI\")\n",
    "    except:\n",
    "        cr_meta = crossref.get_metadata(doi)\n",
    "        if cr_meta: \n",
    "            item = {}\n",
    "\n",
    "            item['citation'] = \"--\"\n",
    "            item['doi'] = doi\n",
    "            item['cr_meta'] = cr_meta\n",
    "            item['cites'] = cr_meta.get('is-referenced-by-count', -1)\n",
    "            item['ams_bib'] = crossref.get_bib_citation(doi).decode('utf-8')\n",
    "\n",
    "            if df_project_mapping.get(nsfid): \n",
    "                df_project_mapping[nsfid].append(item)\n",
    "            else:\n",
    "                df_project_mapping[nsfid] = []\n",
    "                df_project_mapping[nsfid].append(item)\n",
    "                \n",
    "            print(f\"*{nsfid} ==> {doi}\")      \n",
    "        else:\n",
    "            print(\"[] not a cr DOI\")            "
   ]
  },
  {
   "cell_type": "markdown",
   "id": "d6dd0cde-0f77-49e0-9b83-ed425a717215",
   "metadata": {},
   "source": [
    "### Check for malformed or unresolving DOIs"
   ]
  },
  {
   "cell_type": "code",
   "execution_count": 9,
   "id": "8d3949e0-f985-4847-ad7c-de8010d1a4a1",
   "metadata": {},
   "outputs": [
    {
     "name": "stdout",
     "output_type": "stream",
     "text": [
      "1343802 ==> 10.1002/hyp10899\n",
      "1639759 ==> 10.5555/3319379.3319381\n",
      "255 total DOIs checked\n"
     ]
    }
   ],
   "source": [
    "resolved_doi_list = []\n",
    "\n",
    "for k in df_project_mapping.keys():\n",
    "    for p in df_project_mapping[k]:\n",
    "        if p['doi'] and p.get('cr_meta'):\n",
    "            # t.append(p['cr_meta']['type'])\n",
    "            resolved_doi_list.append(p['doi'].lower())\n",
    "        else:\n",
    "            if p['doi']:\n",
    "                print(k, \"==>\", p['doi'])\n",
    "                \n",
    "resolved_doi_list = set(resolved_doi_list)\n",
    "print(len(resolved_doi_list), \"total DOIs checked\")"
   ]
  },
  {
   "cell_type": "markdown",
   "id": "a8f5b826-28b0-4605-bbb7-50d28e440799",
   "metadata": {},
   "source": [
    "Two DOIs are unresolved, malformed or missing:\n",
    "\n",
    "* `10.1002/hyp10899`\n",
    "* `10.5555/3319379.3319381`\n",
    "\n",
    "The first is a typo:\n",
    "    \n",
    "* `10.1002/hyp.10899`\n",
    "\n",
    "\n",
    "The second is not a registered DOI with crossref, but here is the link to it at ACM/DL:\n",
    "\n",
    "* https://dl.acm.org/doi/10.5555/3319379.3319381\n",
    "\n",
    "Which seems to **look** like a DOI, but **does NOT resolve at**:\n",
    "\n",
    "* https://doi.org/10.5555/3319379.3319381\n",
    "\n",
    "We will fix the first and skip the second."
   ]
  },
  {
   "cell_type": "code",
   "execution_count": 10,
   "id": "8d8c343c-99ce-4b97-a262-cf83659871cd",
   "metadata": {},
   "outputs": [],
   "source": [
    "old_doi = '10.1002/hyp10899'\n",
    "new_doi = '10.1002/hyp.10899'\n",
    "\n",
    "cr_meta = crossref.get_metadata(new_doi)\n",
    "\n",
    "item = {}\n",
    "item['citation'] = \"--\"\n",
    "item['doi'] = new_doi\n",
    "item['cr_meta'] = cr_meta \n",
    "item['cites'] = cr_meta.get('is-referenced-by-count', -1)\n",
    "\n",
    "cr_bib = crossref.get_bib_citation(new_doi).decode('utf-8')\n",
    "if cr_bib:\n",
    "    item['ams_bib'] = cr_bib # = crossref.get_bib_citation(doi)\n",
    "\n",
    "df_project_mapping['1343802'].append(item)\n",
    "\n",
    "df_project_mapping['1343802'] = \\\n",
    "    [d for d in df_project_mapping['1343802'] if d['doi']!=old_doi]"
   ]
  },
  {
   "cell_type": "markdown",
   "id": "860b39fa-26b4-460f-aa82-7abdaecef9e0",
   "metadata": {},
   "source": [
    "### Add Datacite metadata to the project mapping\n",
    "\n",
    "This will check all DOIs for DataCite metadata and insert "
   ]
  },
  {
   "cell_type": "code",
   "execution_count": 11,
   "id": "b1e8a21e-911d-417a-98c8-aeb68e4c1962",
   "metadata": {},
   "outputs": [
    {
     "name": "stdout",
     "output_type": "stream",
     "text": [
      "1440351 ==> 10.1594/IEDA/100709 datacite meta added\n",
      "1440351 ==> 10.1594/IEDA/100691 datacite meta added\n",
      "1440351 ==> 10.6084/m9.figshare.4272164.v1 datacite meta added\n",
      "1541390 ==> 10.18739/a24m9198b datacite meta added\n",
      "1639683 ==> 10.6084/m9.figshare.14848713.v1 datacite meta added\n",
      "1639764 ==> 10.1594/pangaea.892680 datacite meta added\n",
      "1639557 ==> 10.1594/PANGAEA.892680 datacite meta added\n",
      "1928406 ==> 10.5281/zenodo.5496306 datacite meta added\n",
      "1440066 ==> 10.13140/rg.2.1.4908.4561 datacite meta added\n",
      "1928393 ==> 10.5281/zenodo.4558266 datacite meta added\n",
      "1928393 ==> 10.5281/zenodo.6369184 datacite meta added\n",
      "1639694 ==> 10.5065/p2jj-9878 datacite meta added\n",
      "CPU times: total: 9.03 s\n",
      "Wall time: 3min 31s\n"
     ]
    }
   ],
   "source": [
    "%%time\n",
    "for k in df_project_mapping.keys():\n",
    "    for i in df_project_mapping[k]:\n",
    "        if i['doi']:\n",
    "            dc_meta = datacite.get_metadata(i['doi'].lower().strip())\n",
    "            if dc_meta:\n",
    "                i['dc_meta'] = dc_meta\n",
    "                print(k, \"==>\", i['doi'], \"datacite meta added\")"
   ]
  },
  {
   "cell_type": "code",
   "execution_count": 12,
   "id": "e7ce8f44-af4c-40ee-b269-df42da9fbf25",
   "metadata": {},
   "outputs": [],
   "source": [
    "doi_list = []\n",
    "for k in df_project_mapping.keys():\n",
    "    for i in df_project_mapping[k]:\n",
    "        if i['doi']  and i.get('cr_meta'):\n",
    "            doi_list.append(i['doi'].lower())"
   ]
  },
  {
   "cell_type": "code",
   "execution_count": 13,
   "id": "b7aea137-6afb-4e95-b661-21bb61c2c45f",
   "metadata": {},
   "outputs": [
    {
     "data": {
      "text/plain": [
       "256"
      ]
     },
     "execution_count": 13,
     "metadata": {},
     "output_type": "execute_result"
    }
   ],
   "source": [
    "len(set(doi_list))"
   ]
  },
  {
   "cell_type": "code",
   "execution_count": 14,
   "id": "30def54a-6984-4cb4-b37e-67f5ccd21090",
   "metadata": {},
   "outputs": [],
   "source": [
    "with open(\"../outputs/full_data_map.json\", \"w\") as fo:\n",
    "    json.dump(df_project_mapping, fo)"
   ]
  },
  {
   "cell_type": "code",
   "execution_count": 15,
   "id": "fe03572c-fa73-4321-8505-8faf62674307",
   "metadata": {},
   "outputs": [],
   "source": [
    "dc_doi = []\n",
    "nsfid_type_map = {}\n",
    "\n",
    "for k in df_project_mapping.keys():\n",
    "    for i in df_project_mapping[k]:\n",
    "        dc_meta = i.get('dc_meta') \n",
    "        if dc_meta:\n",
    "            t_general = dc_meta['attributes']['types'].get('resourceTypeGeneral', '--').lower()\n",
    "            t_schemaorg = dc_meta['attributes']['types'].get('schemaOrg', '--').lower()\n",
    "            \n",
    "            doi = i['doi'].lower()\n",
    "            if doi not in dc_doi:\n",
    "                dc_doi.append(doi)\n",
    "                \n",
    "                if nsfid_type_map.get(k):\n",
    "                    if not nsfid_type_map[k].get(doi):\n",
    "                        nsfid_type_map[k][doi] =  {}                    \n",
    "                        nsfid_type_map[k][doi]['cr_meta'] = i['cr_meta']\n",
    "                        nsfid_type_map[k][doi]['dc_meta'] = dc_meta\n",
    "                        \n",
    "                else:\n",
    "                    nsfid_type_map[k] = {doi: {}}                    \n",
    "                    nsfid_type_map[k][doi]['cr_meta'] = i['cr_meta']\n",
    "                    nsfid_type_map[k][doi]['dc_meta'] = dc_meta\n",
    "\n",
    "with open(\"../outputs/datacite/datacite_data_map.json\", \"w\") as fo:\n",
    "    json.dump(nsfid_type_map, fo)"
   ]
  },
  {
   "cell_type": "markdown",
   "id": "6d37655e-08a7-4df0-a196-9bc384eb4bf6",
   "metadata": {},
   "source": [
    "### STORE `citations.csv` FOR FUTURE USE"
   ]
  },
  {
   "cell_type": "code",
   "execution_count": 16,
   "id": "b1ea5236-b443-4994-b985-bd99a3fea040",
   "metadata": {},
   "outputs": [
    {
     "name": "stdout",
     "output_type": "stream",
     "text": [
      "........................................................................................................................................................................................................................................................................................................................................................................."
     ]
    }
   ],
   "source": [
    "'''\n",
    "THIS LOADS THE DATA STORED FROM THE FILE IN THE PREVIOUSLY \n",
    "EXECUTED CELL\n",
    "'''\n",
    "\n",
    "from datetime import datetime\n",
    "import json\n",
    "\n",
    "f = json.load(open(\"../outputs/full_data_map.json\"))\n",
    "with open(f\"../outputs/citations.tsv\", \"w\", encoding='utf-8') as fo:\n",
    "    for k in f.keys():\n",
    "        for c in f[k]:\n",
    "            if c['doi']:\n",
    "                if c.get('ams_bib') and c['ams_bib'][:5] != '<!DOC':\n",
    "                    fo.write(f\"{k}\\t{c['doi']}\\t{c['cites']}\\n\") \n",
    "                    print(\".\", end=\"\")\n",
    "                else:\n",
    "                    fo.write(f\"{k}\\t{c['doi']}\\t-1\\n\")\n",
    "                    print(\".\", end=\"\")"
   ]
  },
  {
   "cell_type": "markdown",
   "id": "18cdeffe-f5ee-49f5-bb38-34c1c3c42ee3",
   "metadata": {},
   "source": [
    "### STORE `full_nsf_doi_project_summary.tsv` FOR FUTURE USE"
   ]
  },
  {
   "cell_type": "code",
   "execution_count": 17,
   "id": "08c66303-419f-42fd-86f9-96680d692abd",
   "metadata": {},
   "outputs": [
    {
     "name": "stdout",
     "output_type": "stream",
     "text": [
      "........................................................................................................"
     ]
    }
   ],
   "source": [
    "f = json.load(open(\"../outputs/full_data_map.json\"))\n",
    "with open(\"../outputs/full_nsf_doi_project_summary.tsv\", \"w\", encoding='utf-8') as fo:\n",
    "    fo.write(\"{}\\t{}\\t{}\\t{}\\t{}\\t{}\\n\"\n",
    "             .format(\"nsfid\", \"doi\", \"title\", \"ams_bib\", \"cites\", \"year\"))\n",
    "    for k in f.keys():\n",
    "        print(\".\", end=\"\")\n",
    "        for i in f[k]:\n",
    "            if i.get('cr_meta'):\n",
    "                if not i.get('cites'):\n",
    "                    cites =  i['cr_meta'].get('is-referenced-by-count', -1)\n",
    "                else:\n",
    "                    cites = i['cites']\n",
    "                    \n",
    "                if type(i['cr_meta']['title']) is list:\n",
    "                    try:\n",
    "                        title = i['cr_meta']['title'][0]\n",
    "                    except:\n",
    "                        title = i['cr_meta']['title']\n",
    "                else:\n",
    "                    title = i['cr_meta']['title'] \n",
    "\n",
    "            try:\n",
    "                fo.write(\"{}\\t{}\\t{}\\t{}\\t{}\\t{}\\n\".format(\n",
    "                  k, i['doi'].lower(), \n",
    "                  title.replace(\"\\n\", \"\"), \n",
    "                  i['ams_bib'].replace(\"\\n\", \"\"), cites, i['cr_meta']['issued']['date-parts'][0][0])\n",
    "                 )\n",
    "            except Exception as e:\n",
    "                # the title is empty or there is no legit DOI or cr_meta\n",
    "                pass"
   ]
  },
  {
   "cell_type": "code",
   "execution_count": null,
   "id": "04eaa154-1602-4c05-91e4-d3fb63e1e9ea",
   "metadata": {},
   "outputs": [],
   "source": []
  }
 ],
 "metadata": {
  "kernelspec": {
   "display_name": "Python 3 (ipykernel)",
   "language": "python",
   "name": "python3"
  },
  "language_info": {
   "codemirror_mode": {
    "name": "ipython",
    "version": 3
   },
   "file_extension": ".py",
   "mimetype": "text/x-python",
   "name": "python",
   "nbconvert_exporter": "python",
   "pygments_lexer": "ipython3",
   "version": "3.8.11"
  }
 },
 "nbformat": 4,
 "nbformat_minor": 5
}
