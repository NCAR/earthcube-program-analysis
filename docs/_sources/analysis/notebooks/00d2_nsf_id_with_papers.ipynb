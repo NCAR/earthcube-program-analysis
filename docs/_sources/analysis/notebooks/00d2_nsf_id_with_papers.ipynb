{
 "cells": [
  {
   "cell_type": "markdown",
   "id": "c56acd02-f732-49dc-a8bd-e730500f20ed",
   "metadata": {},
   "source": [
    "# Convert NSF Mapping"
   ]
  },
  {
   "cell_type": "markdown",
   "id": "866548a5-9382-4eaa-9b2a-734c9655b35b",
   "metadata": {},
   "source": [
    "This notebook exports and converts\n",
    "\n",
    "* [`outputs/nsf/nsf_mapping.json`](../outputs/nsf/nsf_mapping.json)\n",
    "\n",
    "to\n",
    "\n",
    "* [`outputs/nsf/nsf_doi_project_summary.tsv`](../outputs/nsf/nsf_doi_project_summary.tsv)\n",
    "\n",
    "which can be used and imported into Excel or other basic tools."
   ]
  },
  {
   "cell_type": "code",
   "execution_count": 1,
   "id": "8b085c00-4642-41ed-8a03-fc54f4eaa0a0",
   "metadata": {},
   "outputs": [],
   "source": [
    "import json\n",
    "import pandas as pd"
   ]
  },
  {
   "cell_type": "code",
   "execution_count": 2,
   "id": "79ea57fe-bfca-4d37-965c-7403a267f16f",
   "metadata": {},
   "outputs": [],
   "source": [
    "json_nsf = json.load(open(\"../outputs/nsf/nsf_mapping.json\"))"
   ]
  },
  {
   "cell_type": "code",
   "execution_count": 3,
   "id": "2009fac0-bb38-41f3-a66f-6ad4f08360a9",
   "metadata": {},
   "outputs": [],
   "source": [
    "eco_crosswalk = pd.read_csv(\"../outputs/eco_funded_project_list.tsv\", sep='\\t')\n",
    "eco_crosswalk = eco_crosswalk.set_index('nsfid')"
   ]
  },
  {
   "cell_type": "code",
   "execution_count": 4,
   "id": "f23baefc-20c7-4cd2-9ce6-27ae91b96e42",
   "metadata": {},
   "outputs": [],
   "source": [
    "with open(\"../outputs/nsf/nsf_doi_project_summary.tsv\", \"w\", encoding='utf-8') as fo:\n",
    "    fo.write(\"nsfid\\tdoi\\tproject_title\\teco_shortname\\tcitation\\tcites\\tyear\\n\")\n",
    "    for k in json_nsf.keys():\n",
    "        for i in json_nsf[k]:\n",
    "            eco_shortname = eco_crosswalk.loc[int(k)]['shortname']\n",
    "            if i.get('cr_meta'):\n",
    "                if type(i['cr_meta']['title']) is list:\n",
    "                    try:\n",
    "                        title = i['cr_meta']['title'][0]\n",
    "                    except:\n",
    "                        title = i['cr_meta']['title']\n",
    "                else:\n",
    "                    title = i['cr_meta']['title']            \n",
    "            else:\n",
    "                title = '--'\n",
    "                \n",
    "            try:\n",
    "                i['cites']\n",
    "                fo.write(\"{}\\t{}\\t{}\\t{}\\t{}\\t{}\\t{}\\n\".format(\n",
    "                  k, i['doi'].lower(), \n",
    "                  title.replace(\"\\n\", \"\"), eco_shortname,\n",
    "                  i['ams_bib'].replace(\"\\n\", \"\"), i['cites'], i['cr_meta']['issued']['date-parts'][0][0])\n",
    "                 )\n",
    "            except:                        \n",
    "                if type(title) is list:\n",
    "                    title = \"\"\n",
    "                fo.write(\"{}\\t{}\\t{}\\t{}\\t--\\t--\\t--\\n\".format(\n",
    "                  k, i['doi'].lower().strip(), \n",
    "                    title.replace(\"\\n\", \"\"), eco_shortname\n",
    "                  )\n",
    "                 )"
   ]
  }
 ],
 "metadata": {
  "kernelspec": {
   "display_name": "Python 3 (ipykernel)",
   "language": "python",
   "name": "python3"
  },
  "language_info": {
   "codemirror_mode": {
    "name": "ipython",
    "version": 3
   },
   "file_extension": ".py",
   "mimetype": "text/x-python",
   "name": "python",
   "nbconvert_exporter": "python",
   "pygments_lexer": "ipython3",
   "version": "3.8.11"
  }
 },
 "nbformat": 4,
 "nbformat_minor": 5
}
