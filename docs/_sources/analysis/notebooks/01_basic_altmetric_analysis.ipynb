{
 "cells": [
  {
   "cell_type": "markdown",
   "id": "2b890e03-ae56-491f-b05e-4ab8dda109c5",
   "metadata": {},
   "source": [
    "# BASIC ALTMETRIC ANALYSIS"
   ]
  },
  {
   "cell_type": "markdown",
   "id": "829174d1-db06-446b-9f8a-dd4c997cfb3e",
   "metadata": {},
   "source": [
    "This notebook uses the [altmetric source file]() to explore the top Earthcube-funded papers from the Altmetric lens.\n",
    "\n",
    "It produces three files in `../outputs/altmetric/`:\n",
    "\n",
    "* [altmetric_doi_project_detail.csv](../outputs/altmetric/altmetric_doi_project_detail.csv)\n",
    "* [altmetric_doi_project_detail_table.md](../outputs/altmetric/altmetric_doi_project_detail_table.md)\n",
    "* [altmetric_doi_project_top10_table.md](../outputs/altmetric/altmetric_doi_project_top10_table.md)"
   ]
  },
  {
   "cell_type": "code",
   "execution_count": 1,
   "id": "f38eb189-2145-439a-bf46-9e9849879fd5",
   "metadata": {},
   "outputs": [],
   "source": [
    "import pandas as pd"
   ]
  },
  {
   "cell_type": "code",
   "execution_count": 2,
   "id": "d2aadb9f-c858-4b8a-9a99-1745ad2222d8",
   "metadata": {},
   "outputs": [],
   "source": [
    "df = pd.read_csv(\"../outputs/altmetric_scores.tsv\", sep='\\t')\n",
    "df = df.set_index('doi') "
   ]
  },
  {
   "cell_type": "code",
   "execution_count": 3,
   "id": "2d2672c0-2863-43ca-b7ae-3dc0817bc20a",
   "metadata": {},
   "outputs": [
    {
     "data": {
      "text/html": [
       "<div>\n",
       "<style scoped>\n",
       "    .dataframe tbody tr th:only-of-type {\n",
       "        vertical-align: middle;\n",
       "    }\n",
       "\n",
       "    .dataframe tbody tr th {\n",
       "        vertical-align: top;\n",
       "    }\n",
       "\n",
       "    .dataframe thead th {\n",
       "        text-align: right;\n",
       "    }\n",
       "</style>\n",
       "<table border=\"1\" class=\"dataframe\">\n",
       "  <thead>\n",
       "    <tr style=\"text-align: right;\">\n",
       "      <th></th>\n",
       "      <th>altmetric_score</th>\n",
       "    </tr>\n",
       "  </thead>\n",
       "  <tbody>\n",
       "    <tr>\n",
       "      <th>count</th>\n",
       "      <td>114.000000</td>\n",
       "    </tr>\n",
       "    <tr>\n",
       "      <th>mean</th>\n",
       "      <td>42.173193</td>\n",
       "    </tr>\n",
       "    <tr>\n",
       "      <th>std</th>\n",
       "      <td>139.314984</td>\n",
       "    </tr>\n",
       "    <tr>\n",
       "      <th>min</th>\n",
       "      <td>0.250000</td>\n",
       "    </tr>\n",
       "    <tr>\n",
       "      <th>25%</th>\n",
       "      <td>1.625000</td>\n",
       "    </tr>\n",
       "    <tr>\n",
       "      <th>50%</th>\n",
       "      <td>7.100000</td>\n",
       "    </tr>\n",
       "    <tr>\n",
       "      <th>75%</th>\n",
       "      <td>17.803500</td>\n",
       "    </tr>\n",
       "    <tr>\n",
       "      <th>max</th>\n",
       "      <td>980.774000</td>\n",
       "    </tr>\n",
       "  </tbody>\n",
       "</table>\n",
       "</div>"
      ],
      "text/plain": [
       "       altmetric_score\n",
       "count       114.000000\n",
       "mean         42.173193\n",
       "std         139.314984\n",
       "min           0.250000\n",
       "25%           1.625000\n",
       "50%           7.100000\n",
       "75%          17.803500\n",
       "max         980.774000"
      ]
     },
     "execution_count": 3,
     "metadata": {},
     "output_type": "execute_result"
    }
   ],
   "source": [
    "df.describe()"
   ]
  },
  {
   "cell_type": "markdown",
   "id": "8751855e-a85a-4ad7-8fa6-454e062108cb",
   "metadata": {},
   "source": [
    "## Altmetric Summary\n",
    "\n",
    "* 114 papers with scores (as of 9/30/2022)\n",
    "* mean Altmetric score: 42.17 ($\\sigma^2$: 139.31)\n",
    "* median Almetric score: 7.10\n",
    "* highest Altemetric score: 980.77"
   ]
  },
  {
   "cell_type": "markdown",
   "id": "fb353ed2-b6fb-4b52-9866-29af8bb86790",
   "metadata": {},
   "source": [
    "## Top 10 Analysis"
   ]
  },
  {
   "cell_type": "code",
   "execution_count": 4,
   "id": "b97f5ae9-8ed0-4876-8379-e1860bc423b4",
   "metadata": {},
   "outputs": [
    {
     "data": {
      "text/html": [
       "<div>\n",
       "<style scoped>\n",
       "    .dataframe tbody tr th:only-of-type {\n",
       "        vertical-align: middle;\n",
       "    }\n",
       "\n",
       "    .dataframe tbody tr th {\n",
       "        vertical-align: top;\n",
       "    }\n",
       "\n",
       "    .dataframe thead th {\n",
       "        text-align: right;\n",
       "    }\n",
       "</style>\n",
       "<table border=\"1\" class=\"dataframe\">\n",
       "  <thead>\n",
       "    <tr style=\"text-align: right;\">\n",
       "      <th></th>\n",
       "      <th>altmetric_score</th>\n",
       "    </tr>\n",
       "    <tr>\n",
       "      <th>doi</th>\n",
       "      <th></th>\n",
       "    </tr>\n",
       "  </thead>\n",
       "  <tbody>\n",
       "    <tr>\n",
       "      <th>10.1038/sdata.2017.88</th>\n",
       "      <td>980.774</td>\n",
       "    </tr>\n",
       "    <tr>\n",
       "      <th>10.1002/2017gl074954</th>\n",
       "      <td>918.634</td>\n",
       "    </tr>\n",
       "    <tr>\n",
       "      <th>10.1029/2021ef002277</th>\n",
       "      <td>580.648</td>\n",
       "    </tr>\n",
       "    <tr>\n",
       "      <th>10.1038/s41550-020-1147-7</th>\n",
       "      <td>274.680</td>\n",
       "    </tr>\n",
       "    <tr>\n",
       "      <th>10.1038/nbt.4306</th>\n",
       "      <td>170.440</td>\n",
       "    </tr>\n",
       "    <tr>\n",
       "      <th>10.1371/journal.pone.0113523</th>\n",
       "      <td>166.646</td>\n",
       "    </tr>\n",
       "    <tr>\n",
       "      <th>10.1016/j.epsl.2016.12.012</th>\n",
       "      <td>154.722</td>\n",
       "    </tr>\n",
       "    <tr>\n",
       "      <th>10.1038/s41561-018-0272-8</th>\n",
       "      <td>145.226</td>\n",
       "    </tr>\n",
       "    <tr>\n",
       "      <th>10.1126/science.aad7048</th>\n",
       "      <td>142.358</td>\n",
       "    </tr>\n",
       "    <tr>\n",
       "      <th>10.5194/tc-16-1431-2022</th>\n",
       "      <td>107.298</td>\n",
       "    </tr>\n",
       "  </tbody>\n",
       "</table>\n",
       "</div>"
      ],
      "text/plain": [
       "                              altmetric_score\n",
       "doi                                          \n",
       "10.1038/sdata.2017.88                 980.774\n",
       "10.1002/2017gl074954                  918.634\n",
       "10.1029/2021ef002277                  580.648\n",
       "10.1038/s41550-020-1147-7             274.680\n",
       "10.1038/nbt.4306                      170.440\n",
       "10.1371/journal.pone.0113523          166.646\n",
       "10.1016/j.epsl.2016.12.012            154.722\n",
       "10.1038/s41561-018-0272-8             145.226\n",
       "10.1126/science.aad7048               142.358\n",
       "10.5194/tc-16-1431-2022               107.298"
      ]
     },
     "execution_count": 4,
     "metadata": {},
     "output_type": "execute_result"
    }
   ],
   "source": [
    "df.sort_values(by='altmetric_score', ascending=False)[:10]"
   ]
  },
  {
   "cell_type": "code",
   "execution_count": 5,
   "id": "726d22bc-5fbe-4728-a968-14b989a28cdf",
   "metadata": {},
   "outputs": [],
   "source": [
    "df_citations = pd.read_csv(\"../outputs/nsf/nsf_doi_project_summary.tsv\", sep='\\t', header=None)\n",
    "\n",
    "df_citations = df_citations[[0,1,2]]\n",
    "df_citations = df_citations.drop_duplicates()\n",
    "df_citations.columns = ['nsfid', 'doi', 'title']"
   ]
  },
  {
   "cell_type": "code",
   "execution_count": 6,
   "id": "4b93b5cf-bb26-4daa-be56-35a678c43660",
   "metadata": {},
   "outputs": [
    {
     "data": {
      "text/html": [
       "<div>\n",
       "<style scoped>\n",
       "    .dataframe tbody tr th:only-of-type {\n",
       "        vertical-align: middle;\n",
       "    }\n",
       "\n",
       "    .dataframe tbody tr th {\n",
       "        vertical-align: top;\n",
       "    }\n",
       "\n",
       "    .dataframe thead th {\n",
       "        text-align: right;\n",
       "    }\n",
       "</style>\n",
       "<table border=\"1\" class=\"dataframe\">\n",
       "  <thead>\n",
       "    <tr style=\"text-align: right;\">\n",
       "      <th></th>\n",
       "      <th>nsfid</th>\n",
       "      <th>doi</th>\n",
       "      <th>title</th>\n",
       "    </tr>\n",
       "  </thead>\n",
       "  <tbody>\n",
       "    <tr>\n",
       "      <th>0</th>\n",
       "      <td>nsfid</td>\n",
       "      <td>doi</td>\n",
       "      <td>project_title</td>\n",
       "    </tr>\n",
       "    <tr>\n",
       "      <th>1</th>\n",
       "      <td>1324760</td>\n",
       "      <td>10.1016/j.geomorph.2015.03.039</td>\n",
       "      <td>Data management, sharing, and reuse in experim...</td>\n",
       "    </tr>\n",
       "    <tr>\n",
       "      <th>3</th>\n",
       "      <td>1324760</td>\n",
       "      <td>10.2110/sedred.2013.4.9</td>\n",
       "      <td>Building a Sediment Experimentalist Network (S...</td>\n",
       "    </tr>\n",
       "    <tr>\n",
       "      <th>4</th>\n",
       "      <td>1324760</td>\n",
       "      <td>10.2110/sedred.2013.4</td>\n",
       "      <td>NaN</td>\n",
       "    </tr>\n",
       "    <tr>\n",
       "      <th>5</th>\n",
       "      <td>1340233</td>\n",
       "      <td>10.1126/science.342.6162.1041-b</td>\n",
       "      <td>Open Data: Crediting a Culture of Cooperation</td>\n",
       "    </tr>\n",
       "    <tr>\n",
       "      <th>...</th>\n",
       "      <td>...</td>\n",
       "      <td>...</td>\n",
       "      <td>...</td>\n",
       "    </tr>\n",
       "    <tr>\n",
       "      <th>405</th>\n",
       "      <td>2126474</td>\n",
       "      <td>10.1109/icdm51629.2021.00037</td>\n",
       "      <td>Physics-Guided Machine Learning from Simulatio...</td>\n",
       "    </tr>\n",
       "    <tr>\n",
       "      <th>406</th>\n",
       "      <td>2126474</td>\n",
       "      <td>10.1145/3474842</td>\n",
       "      <td>Significant DBSCAN+: Statistically Robust Dens...</td>\n",
       "    </tr>\n",
       "    <tr>\n",
       "      <th>407</th>\n",
       "      <td>2126474</td>\n",
       "      <td>10.1109/icdm51629.2021.00088</td>\n",
       "      <td>A Statistically-Guided Deep Network Transforma...</td>\n",
       "    </tr>\n",
       "    <tr>\n",
       "      <th>408</th>\n",
       "      <td>2126474</td>\n",
       "      <td>10.1145/3474717.3483970</td>\n",
       "      <td>Spatial-Net</td>\n",
       "    </tr>\n",
       "    <tr>\n",
       "      <th>409</th>\n",
       "      <td>2126449</td>\n",
       "      <td>10.1145/3474717.3483970</td>\n",
       "      <td>Spatial-Net</td>\n",
       "    </tr>\n",
       "  </tbody>\n",
       "</table>\n",
       "<p>326 rows × 3 columns</p>\n",
       "</div>"
      ],
      "text/plain": [
       "       nsfid                              doi  \\\n",
       "0      nsfid                              doi   \n",
       "1    1324760   10.1016/j.geomorph.2015.03.039   \n",
       "3    1324760          10.2110/sedred.2013.4.9   \n",
       "4    1324760            10.2110/sedred.2013.4   \n",
       "5    1340233  10.1126/science.342.6162.1041-b   \n",
       "..       ...                              ...   \n",
       "405  2126474     10.1109/icdm51629.2021.00037   \n",
       "406  2126474                  10.1145/3474842   \n",
       "407  2126474     10.1109/icdm51629.2021.00088   \n",
       "408  2126474          10.1145/3474717.3483970   \n",
       "409  2126449          10.1145/3474717.3483970   \n",
       "\n",
       "                                                 title  \n",
       "0                                        project_title  \n",
       "1    Data management, sharing, and reuse in experim...  \n",
       "3    Building a Sediment Experimentalist Network (S...  \n",
       "4                                                  NaN  \n",
       "5        Open Data: Crediting a Culture of Cooperation  \n",
       "..                                                 ...  \n",
       "405  Physics-Guided Machine Learning from Simulatio...  \n",
       "406  Significant DBSCAN+: Statistically Robust Dens...  \n",
       "407  A Statistically-Guided Deep Network Transforma...  \n",
       "408                                        Spatial-Net  \n",
       "409                                        Spatial-Net  \n",
       "\n",
       "[326 rows x 3 columns]"
      ]
     },
     "execution_count": 6,
     "metadata": {},
     "output_type": "execute_result"
    }
   ],
   "source": [
    "df_citations"
   ]
  },
  {
   "cell_type": "code",
   "execution_count": 7,
   "id": "6437b332-76a9-4ba8-83b7-a4448880bfda",
   "metadata": {},
   "outputs": [],
   "source": [
    "df_projects = pd.read_csv(\"../outputs/nsf/nsfid_project_title_normed.csv\")\n",
    "df_projects.columns = ['nsfid', 'project_title']"
   ]
  },
  {
   "cell_type": "markdown",
   "id": "a5edb033-c8f3-4e5f-a055-d7ca167e8133",
   "metadata": {},
   "source": [
    "The final dataframe is created and stored.                     "
   ]
  },
  {
   "cell_type": "code",
   "execution_count": 8,
   "id": "c2ad3fe6-8432-4e82-b5c4-e7494a2e1899",
   "metadata": {},
   "outputs": [
    {
     "ename": "ValueError",
     "evalue": "You are trying to merge on object and int64 columns. If you wish to proceed you should use pd.concat",
     "output_type": "error",
     "traceback": [
      "\u001b[1;31m---------------------------------------------------------------------------\u001b[0m",
      "\u001b[1;31mValueError\u001b[0m                                Traceback (most recent call last)",
      "Input \u001b[1;32mIn [8]\u001b[0m, in \u001b[0;36m<cell line: 2>\u001b[1;34m()\u001b[0m\n\u001b[0;32m      1\u001b[0m df_altmetric \u001b[38;5;241m=\u001b[39m \\\n\u001b[0;32m      2\u001b[0m     df\u001b[38;5;241m.\u001b[39mmerge(\n\u001b[1;32m----> 3\u001b[0m         \u001b[43mdf_citations\u001b[49m\u001b[43m\\\u001b[49m\n\u001b[0;32m      4\u001b[0m \u001b[43m            \u001b[49m\u001b[38;5;241;43m.\u001b[39;49m\u001b[43mmerge\u001b[49m\u001b[43m(\u001b[49m\u001b[43mdf_projects\u001b[49m\u001b[43m)\u001b[49m\u001b[38;5;241m.\u001b[39mset_index(\u001b[38;5;124m'\u001b[39m\u001b[38;5;124mdoi\u001b[39m\u001b[38;5;124m'\u001b[39m)\\\n\u001b[0;32m      5\u001b[0m             \u001b[38;5;241m.\u001b[39mmerge(df, left_index\u001b[38;5;241m=\u001b[39m\u001b[38;5;28;01mTrue\u001b[39;00m, right_index\u001b[38;5;241m=\u001b[39m\u001b[38;5;28;01mTrue\u001b[39;00m),\\\n\u001b[0;32m      6\u001b[0m         left_index\u001b[38;5;241m=\u001b[39m\u001b[38;5;28;01mTrue\u001b[39;00m, right_index\u001b[38;5;241m=\u001b[39m\u001b[38;5;28;01mTrue\u001b[39;00m\n\u001b[0;32m      7\u001b[0m         )\\\n\u001b[0;32m      8\u001b[0m       \u001b[38;5;241m.\u001b[39mreset_index()\\\n\u001b[0;32m      9\u001b[0m       \u001b[38;5;241m.\u001b[39mdrop_duplicates(\u001b[38;5;124m'\u001b[39m\u001b[38;5;124mdoi\u001b[39m\u001b[38;5;124m'\u001b[39m, keep\u001b[38;5;241m=\u001b[39m\u001b[38;5;124m'\u001b[39m\u001b[38;5;124mfirst\u001b[39m\u001b[38;5;124m'\u001b[39m)\\\n\u001b[0;32m     10\u001b[0m       \u001b[38;5;241m.\u001b[39mset_index(\u001b[38;5;124m'\u001b[39m\u001b[38;5;124mdoi\u001b[39m\u001b[38;5;124m'\u001b[39m)\u001b[38;5;241m.\u001b[39mdrop(\u001b[38;5;124m'\u001b[39m\u001b[38;5;124maltmetric_score_y\u001b[39m\u001b[38;5;124m'\u001b[39m, axis\u001b[38;5;241m=\u001b[39m\u001b[38;5;241m1\u001b[39m)\\\n\u001b[0;32m     11\u001b[0m       \u001b[38;5;241m.\u001b[39mrename(columns\u001b[38;5;241m=\u001b[39m{\u001b[38;5;124m'\u001b[39m\u001b[38;5;124maltmetric_score_x\u001b[39m\u001b[38;5;124m'\u001b[39m: \u001b[38;5;124m'\u001b[39m\u001b[38;5;124maltmetric_score\u001b[39m\u001b[38;5;124m'\u001b[39m})\\\n\u001b[0;32m     12\u001b[0m       \u001b[38;5;241m.\u001b[39msort_values(by\u001b[38;5;241m=\u001b[39m\u001b[38;5;124m'\u001b[39m\u001b[38;5;124maltmetric_score\u001b[39m\u001b[38;5;124m'\u001b[39m, ascending\u001b[38;5;241m=\u001b[39m\u001b[38;5;28;01mFalse\u001b[39;00m)\n",
      "File \u001b[1;32m~\\Anaconda3\\lib\\site-packages\\pandas\\core\\frame.py:9351\u001b[0m, in \u001b[0;36mDataFrame.merge\u001b[1;34m(self, right, how, on, left_on, right_on, left_index, right_index, sort, suffixes, copy, indicator, validate)\u001b[0m\n\u001b[0;32m   9332\u001b[0m \u001b[38;5;129m@Substitution\u001b[39m(\u001b[38;5;124m\"\u001b[39m\u001b[38;5;124m\"\u001b[39m)\n\u001b[0;32m   9333\u001b[0m \u001b[38;5;129m@Appender\u001b[39m(_merge_doc, indents\u001b[38;5;241m=\u001b[39m\u001b[38;5;241m2\u001b[39m)\n\u001b[0;32m   9334\u001b[0m \u001b[38;5;28;01mdef\u001b[39;00m \u001b[38;5;21mmerge\u001b[39m(\n\u001b[1;32m   (...)\u001b[0m\n\u001b[0;32m   9347\u001b[0m     validate: \u001b[38;5;28mstr\u001b[39m \u001b[38;5;241m|\u001b[39m \u001b[38;5;28;01mNone\u001b[39;00m \u001b[38;5;241m=\u001b[39m \u001b[38;5;28;01mNone\u001b[39;00m,\n\u001b[0;32m   9348\u001b[0m ) \u001b[38;5;241m-\u001b[39m\u001b[38;5;241m>\u001b[39m DataFrame:\n\u001b[0;32m   9349\u001b[0m     \u001b[38;5;28;01mfrom\u001b[39;00m \u001b[38;5;21;01mpandas\u001b[39;00m\u001b[38;5;21;01m.\u001b[39;00m\u001b[38;5;21;01mcore\u001b[39;00m\u001b[38;5;21;01m.\u001b[39;00m\u001b[38;5;21;01mreshape\u001b[39;00m\u001b[38;5;21;01m.\u001b[39;00m\u001b[38;5;21;01mmerge\u001b[39;00m \u001b[38;5;28;01mimport\u001b[39;00m merge\n\u001b[1;32m-> 9351\u001b[0m     \u001b[38;5;28;01mreturn\u001b[39;00m \u001b[43mmerge\u001b[49m\u001b[43m(\u001b[49m\n\u001b[0;32m   9352\u001b[0m \u001b[43m        \u001b[49m\u001b[38;5;28;43mself\u001b[39;49m\u001b[43m,\u001b[49m\n\u001b[0;32m   9353\u001b[0m \u001b[43m        \u001b[49m\u001b[43mright\u001b[49m\u001b[43m,\u001b[49m\n\u001b[0;32m   9354\u001b[0m \u001b[43m        \u001b[49m\u001b[43mhow\u001b[49m\u001b[38;5;241;43m=\u001b[39;49m\u001b[43mhow\u001b[49m\u001b[43m,\u001b[49m\n\u001b[0;32m   9355\u001b[0m \u001b[43m        \u001b[49m\u001b[43mon\u001b[49m\u001b[38;5;241;43m=\u001b[39;49m\u001b[43mon\u001b[49m\u001b[43m,\u001b[49m\n\u001b[0;32m   9356\u001b[0m \u001b[43m        \u001b[49m\u001b[43mleft_on\u001b[49m\u001b[38;5;241;43m=\u001b[39;49m\u001b[43mleft_on\u001b[49m\u001b[43m,\u001b[49m\n\u001b[0;32m   9357\u001b[0m \u001b[43m        \u001b[49m\u001b[43mright_on\u001b[49m\u001b[38;5;241;43m=\u001b[39;49m\u001b[43mright_on\u001b[49m\u001b[43m,\u001b[49m\n\u001b[0;32m   9358\u001b[0m \u001b[43m        \u001b[49m\u001b[43mleft_index\u001b[49m\u001b[38;5;241;43m=\u001b[39;49m\u001b[43mleft_index\u001b[49m\u001b[43m,\u001b[49m\n\u001b[0;32m   9359\u001b[0m \u001b[43m        \u001b[49m\u001b[43mright_index\u001b[49m\u001b[38;5;241;43m=\u001b[39;49m\u001b[43mright_index\u001b[49m\u001b[43m,\u001b[49m\n\u001b[0;32m   9360\u001b[0m \u001b[43m        \u001b[49m\u001b[43msort\u001b[49m\u001b[38;5;241;43m=\u001b[39;49m\u001b[43msort\u001b[49m\u001b[43m,\u001b[49m\n\u001b[0;32m   9361\u001b[0m \u001b[43m        \u001b[49m\u001b[43msuffixes\u001b[49m\u001b[38;5;241;43m=\u001b[39;49m\u001b[43msuffixes\u001b[49m\u001b[43m,\u001b[49m\n\u001b[0;32m   9362\u001b[0m \u001b[43m        \u001b[49m\u001b[43mcopy\u001b[49m\u001b[38;5;241;43m=\u001b[39;49m\u001b[43mcopy\u001b[49m\u001b[43m,\u001b[49m\n\u001b[0;32m   9363\u001b[0m \u001b[43m        \u001b[49m\u001b[43mindicator\u001b[49m\u001b[38;5;241;43m=\u001b[39;49m\u001b[43mindicator\u001b[49m\u001b[43m,\u001b[49m\n\u001b[0;32m   9364\u001b[0m \u001b[43m        \u001b[49m\u001b[43mvalidate\u001b[49m\u001b[38;5;241;43m=\u001b[39;49m\u001b[43mvalidate\u001b[49m\u001b[43m,\u001b[49m\n\u001b[0;32m   9365\u001b[0m \u001b[43m    \u001b[49m\u001b[43m)\u001b[49m\n",
      "File \u001b[1;32m~\\Anaconda3\\lib\\site-packages\\pandas\\core\\reshape\\merge.py:107\u001b[0m, in \u001b[0;36mmerge\u001b[1;34m(left, right, how, on, left_on, right_on, left_index, right_index, sort, suffixes, copy, indicator, validate)\u001b[0m\n\u001b[0;32m     90\u001b[0m \u001b[38;5;129m@Substitution\u001b[39m(\u001b[38;5;124m\"\u001b[39m\u001b[38;5;130;01m\\n\u001b[39;00m\u001b[38;5;124mleft : DataFrame or named Series\u001b[39m\u001b[38;5;124m\"\u001b[39m)\n\u001b[0;32m     91\u001b[0m \u001b[38;5;129m@Appender\u001b[39m(_merge_doc, indents\u001b[38;5;241m=\u001b[39m\u001b[38;5;241m0\u001b[39m)\n\u001b[0;32m     92\u001b[0m \u001b[38;5;28;01mdef\u001b[39;00m \u001b[38;5;21mmerge\u001b[39m(\n\u001b[1;32m   (...)\u001b[0m\n\u001b[0;32m    105\u001b[0m     validate: \u001b[38;5;28mstr\u001b[39m \u001b[38;5;241m|\u001b[39m \u001b[38;5;28;01mNone\u001b[39;00m \u001b[38;5;241m=\u001b[39m \u001b[38;5;28;01mNone\u001b[39;00m,\n\u001b[0;32m    106\u001b[0m ) \u001b[38;5;241m-\u001b[39m\u001b[38;5;241m>\u001b[39m DataFrame:\n\u001b[1;32m--> 107\u001b[0m     op \u001b[38;5;241m=\u001b[39m \u001b[43m_MergeOperation\u001b[49m\u001b[43m(\u001b[49m\n\u001b[0;32m    108\u001b[0m \u001b[43m        \u001b[49m\u001b[43mleft\u001b[49m\u001b[43m,\u001b[49m\n\u001b[0;32m    109\u001b[0m \u001b[43m        \u001b[49m\u001b[43mright\u001b[49m\u001b[43m,\u001b[49m\n\u001b[0;32m    110\u001b[0m \u001b[43m        \u001b[49m\u001b[43mhow\u001b[49m\u001b[38;5;241;43m=\u001b[39;49m\u001b[43mhow\u001b[49m\u001b[43m,\u001b[49m\n\u001b[0;32m    111\u001b[0m \u001b[43m        \u001b[49m\u001b[43mon\u001b[49m\u001b[38;5;241;43m=\u001b[39;49m\u001b[43mon\u001b[49m\u001b[43m,\u001b[49m\n\u001b[0;32m    112\u001b[0m \u001b[43m        \u001b[49m\u001b[43mleft_on\u001b[49m\u001b[38;5;241;43m=\u001b[39;49m\u001b[43mleft_on\u001b[49m\u001b[43m,\u001b[49m\n\u001b[0;32m    113\u001b[0m \u001b[43m        \u001b[49m\u001b[43mright_on\u001b[49m\u001b[38;5;241;43m=\u001b[39;49m\u001b[43mright_on\u001b[49m\u001b[43m,\u001b[49m\n\u001b[0;32m    114\u001b[0m \u001b[43m        \u001b[49m\u001b[43mleft_index\u001b[49m\u001b[38;5;241;43m=\u001b[39;49m\u001b[43mleft_index\u001b[49m\u001b[43m,\u001b[49m\n\u001b[0;32m    115\u001b[0m \u001b[43m        \u001b[49m\u001b[43mright_index\u001b[49m\u001b[38;5;241;43m=\u001b[39;49m\u001b[43mright_index\u001b[49m\u001b[43m,\u001b[49m\n\u001b[0;32m    116\u001b[0m \u001b[43m        \u001b[49m\u001b[43msort\u001b[49m\u001b[38;5;241;43m=\u001b[39;49m\u001b[43msort\u001b[49m\u001b[43m,\u001b[49m\n\u001b[0;32m    117\u001b[0m \u001b[43m        \u001b[49m\u001b[43msuffixes\u001b[49m\u001b[38;5;241;43m=\u001b[39;49m\u001b[43msuffixes\u001b[49m\u001b[43m,\u001b[49m\n\u001b[0;32m    118\u001b[0m \u001b[43m        \u001b[49m\u001b[43mcopy\u001b[49m\u001b[38;5;241;43m=\u001b[39;49m\u001b[43mcopy\u001b[49m\u001b[43m,\u001b[49m\n\u001b[0;32m    119\u001b[0m \u001b[43m        \u001b[49m\u001b[43mindicator\u001b[49m\u001b[38;5;241;43m=\u001b[39;49m\u001b[43mindicator\u001b[49m\u001b[43m,\u001b[49m\n\u001b[0;32m    120\u001b[0m \u001b[43m        \u001b[49m\u001b[43mvalidate\u001b[49m\u001b[38;5;241;43m=\u001b[39;49m\u001b[43mvalidate\u001b[49m\u001b[43m,\u001b[49m\n\u001b[0;32m    121\u001b[0m \u001b[43m    \u001b[49m\u001b[43m)\u001b[49m\n\u001b[0;32m    122\u001b[0m     \u001b[38;5;28;01mreturn\u001b[39;00m op\u001b[38;5;241m.\u001b[39mget_result()\n",
      "File \u001b[1;32m~\\Anaconda3\\lib\\site-packages\\pandas\\core\\reshape\\merge.py:704\u001b[0m, in \u001b[0;36m_MergeOperation.__init__\u001b[1;34m(self, left, right, how, on, left_on, right_on, axis, left_index, right_index, sort, suffixes, copy, indicator, validate)\u001b[0m\n\u001b[0;32m    696\u001b[0m (\n\u001b[0;32m    697\u001b[0m     \u001b[38;5;28mself\u001b[39m\u001b[38;5;241m.\u001b[39mleft_join_keys,\n\u001b[0;32m    698\u001b[0m     \u001b[38;5;28mself\u001b[39m\u001b[38;5;241m.\u001b[39mright_join_keys,\n\u001b[0;32m    699\u001b[0m     \u001b[38;5;28mself\u001b[39m\u001b[38;5;241m.\u001b[39mjoin_names,\n\u001b[0;32m    700\u001b[0m ) \u001b[38;5;241m=\u001b[39m \u001b[38;5;28mself\u001b[39m\u001b[38;5;241m.\u001b[39m_get_merge_keys()\n\u001b[0;32m    702\u001b[0m \u001b[38;5;66;03m# validate the merge keys dtypes. We may need to coerce\u001b[39;00m\n\u001b[0;32m    703\u001b[0m \u001b[38;5;66;03m# to avoid incompatible dtypes\u001b[39;00m\n\u001b[1;32m--> 704\u001b[0m \u001b[38;5;28;43mself\u001b[39;49m\u001b[38;5;241;43m.\u001b[39;49m\u001b[43m_maybe_coerce_merge_keys\u001b[49m\u001b[43m(\u001b[49m\u001b[43m)\u001b[49m\n\u001b[0;32m    706\u001b[0m \u001b[38;5;66;03m# If argument passed to validate,\u001b[39;00m\n\u001b[0;32m    707\u001b[0m \u001b[38;5;66;03m# check if columns specified as unique\u001b[39;00m\n\u001b[0;32m    708\u001b[0m \u001b[38;5;66;03m# are in fact unique.\u001b[39;00m\n\u001b[0;32m    709\u001b[0m \u001b[38;5;28;01mif\u001b[39;00m validate \u001b[38;5;129;01mis\u001b[39;00m \u001b[38;5;129;01mnot\u001b[39;00m \u001b[38;5;28;01mNone\u001b[39;00m:\n",
      "File \u001b[1;32m~\\Anaconda3\\lib\\site-packages\\pandas\\core\\reshape\\merge.py:1261\u001b[0m, in \u001b[0;36m_MergeOperation._maybe_coerce_merge_keys\u001b[1;34m(self)\u001b[0m\n\u001b[0;32m   1255\u001b[0m     \u001b[38;5;66;03m# unless we are merging non-string-like with string-like\u001b[39;00m\n\u001b[0;32m   1256\u001b[0m     \u001b[38;5;28;01melif\u001b[39;00m (\n\u001b[0;32m   1257\u001b[0m         inferred_left \u001b[38;5;129;01min\u001b[39;00m string_types \u001b[38;5;129;01mand\u001b[39;00m inferred_right \u001b[38;5;129;01mnot\u001b[39;00m \u001b[38;5;129;01min\u001b[39;00m string_types\n\u001b[0;32m   1258\u001b[0m     ) \u001b[38;5;129;01mor\u001b[39;00m (\n\u001b[0;32m   1259\u001b[0m         inferred_right \u001b[38;5;129;01min\u001b[39;00m string_types \u001b[38;5;129;01mand\u001b[39;00m inferred_left \u001b[38;5;129;01mnot\u001b[39;00m \u001b[38;5;129;01min\u001b[39;00m string_types\n\u001b[0;32m   1260\u001b[0m     ):\n\u001b[1;32m-> 1261\u001b[0m         \u001b[38;5;28;01mraise\u001b[39;00m \u001b[38;5;167;01mValueError\u001b[39;00m(msg)\n\u001b[0;32m   1263\u001b[0m \u001b[38;5;66;03m# datetimelikes must match exactly\u001b[39;00m\n\u001b[0;32m   1264\u001b[0m \u001b[38;5;28;01melif\u001b[39;00m needs_i8_conversion(lk\u001b[38;5;241m.\u001b[39mdtype) \u001b[38;5;129;01mand\u001b[39;00m \u001b[38;5;129;01mnot\u001b[39;00m needs_i8_conversion(rk\u001b[38;5;241m.\u001b[39mdtype):\n",
      "\u001b[1;31mValueError\u001b[0m: You are trying to merge on object and int64 columns. If you wish to proceed you should use pd.concat"
     ]
    }
   ],
   "source": [
    "df_altmetric = \\\n",
    "    df.merge(\n",
    "        df_citations\\\n",
    "            .merge(df_projects).set_index('doi')\\\n",
    "            .merge(df, left_index=True, right_index=True),\\\n",
    "        left_index=True, right_index=True\n",
    "        )\\\n",
    "      .reset_index()\\\n",
    "      .drop_duplicates('doi', keep='first')\\\n",
    "      .set_index('doi').drop('altmetric_score_y', axis=1)\\\n",
    "      .rename(columns={'altmetric_score_x': 'altmetric_score'})\\\n",
    "      .sort_values(by='altmetric_score', ascending=False)"
   ]
  },
  {
   "cell_type": "code",
   "execution_count": null,
   "id": "3ad0589f-4693-40c2-95cb-ece25fee85ca",
   "metadata": {},
   "outputs": [],
   "source": [
    "df_altmetric.altmetric_score = df_altmetric.altmetric_score.round(2)"
   ]
  },
  {
   "cell_type": "markdown",
   "id": "d44f4e8f-e4f1-4179-ae3a-b52fbae02abe",
   "metadata": {},
   "source": [
    "Produce the csv file:"
   ]
  },
  {
   "cell_type": "code",
   "execution_count": 11,
   "id": "a393f663-0a08-40fb-938a-d5867e211078",
   "metadata": {},
   "outputs": [],
   "source": [
    "df_altmetric.to_csv(\"../outputs/altmetric/altmetric_doi_project_detail.csv\")"
   ]
  },
  {
   "cell_type": "markdown",
   "id": "62c4cd14-52f7-4b04-ab97-c50957e3e782",
   "metadata": {},
   "source": [
    "Produce the markdown files:"
   ]
  },
  {
   "cell_type": "code",
   "execution_count": 12,
   "id": "d9812fa6-0d62-4509-84aa-9845b5fc2672",
   "metadata": {},
   "outputs": [],
   "source": [
    "with open(\"../outputs/altmetric/altmetric_doi_project_detail_table.md\", \"w\", encoding='utf-8') as fo, \\\n",
    "     open(\"../outputs/altmetric/altmetric_doi_project_top10_table.md\", \"w\", encoding='utf-8') as fo_top10:\n",
    "    header = \"|Altmetric Score|Publication Title|Project Title|\\n|--------------:|-----------------|------------------------|\\n\"\n",
    "    fo.write(header)\n",
    "    fo_top10.write(header)\n",
    "    \n",
    "    for i, row in enumerate(df_altmetric.itertuples()):\n",
    "        if i < 10:\n",
    "            nsf_url = f\"https://nsf.gov/awardsearch/showAward?AWD_ID={row.nsfid}&HistoricalAwards=false\"\n",
    "            doi_url = f\"https://doi.org/{row.Index}\"\n",
    "\n",
    "            fo_top10.write(\n",
    "                f\"| {row.altmetric_score:.2f} | {row.title} (doi: [{row.Index}]({doi_url})) | {row.project_title} ([NSF #{row.nsfid}]({nsf_url}))|\\n\"\n",
    "            )\n",
    "            \n",
    "        fo.write(\n",
    "                f\"| {row.altmetric_score:.2f} | {row.title} (doi: [{row.Index}]({doi_url})) | {row.project_title} ([NSF #{row.nsfid}]({nsf_url}))|\\n\"\n",
    "            )"
   ]
  }
 ],
 "metadata": {
  "kernelspec": {
   "display_name": "Python 3 (ipykernel)",
   "language": "python",
   "name": "python3"
  },
  "language_info": {
   "codemirror_mode": {
    "name": "ipython",
    "version": 3
   },
   "file_extension": ".py",
   "mimetype": "text/x-python",
   "name": "python",
   "nbconvert_exporter": "python",
   "pygments_lexer": "ipython3",
   "version": "3.8.11"
  }
 },
 "nbformat": 4,
 "nbformat_minor": 5
}
