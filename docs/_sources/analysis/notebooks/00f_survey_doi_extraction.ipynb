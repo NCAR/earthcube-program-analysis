{
 "cells": [
  {
   "cell_type": "markdown",
   "id": "b3d20fde-3494-4d9c-a2cb-f7f96d2846dd",
   "metadata": {},
   "source": [
    "# Survey DOI Extraction"
   ]
  },
  {
   "cell_type": "markdown",
   "id": "278fa911-5131-40ce-9701-2290375fc45e",
   "metadata": {},
   "source": [
    "A survey was performed and all EC PIs were invited to update the spreadsheet provided in Google Docs so that their projects were properly represented.\n",
    "\n",
    "In this notebook, we extract those mappings to make sure that those publications not represented in the NSF data properly accounted for."
   ]
  },
  {
   "cell_type": "code",
   "execution_count": 1,
   "id": "2df33675-ccfb-4fbf-b2e0-73e8f9a3ccf1",
   "metadata": {},
   "outputs": [],
   "source": [
    "import openpyxl as pyxls # https://openpyxl.readthedocs.io/en/stable/usage.html"
   ]
  },
  {
   "cell_type": "code",
   "execution_count": 2,
   "id": "67577b13-2be4-48e2-a504-5f6bdd45262f",
   "metadata": {},
   "outputs": [],
   "source": [
    "# wb = pyxls.load_workbook(filename = '050922_ec_projects_worksheet_distrubute.xlsx')\n",
    "wb = pyxls.load_workbook(filename = '../inputs/052522_ec_projects_worksheet_distrubute.xlsx')"
   ]
  },
  {
   "cell_type": "markdown",
   "id": "ce95fc35-f467-4f7e-8b4c-9b04b4bcde88",
   "metadata": {},
   "source": [
    "Building a project map allows us to match ID to names -- the names in the spreadsheet were different than those give by the NSF, so the origin file is use to walk from ID to EC program name.  Recall, the NSF database program names were NOT always an exact match for those in the EC database, so the NSF Award ID is the only key we have to work with."
   ]
  },
  {
   "cell_type": "code",
   "execution_count": 3,
   "id": "9513e397-a41a-4072-a0ab-aac68748f679",
   "metadata": {},
   "outputs": [
    {
     "name": "stdout",
     "output_type": "stream",
     "text": [
      "................................................................................................"
     ]
    }
   ],
   "source": [
    "prj_map = {}\n",
    "for sheet in wb.sheetnames:\n",
    "    i = 2\n",
    "    while (True):\n",
    "        doi, citation = wb[sheet]['B'+str(i)].value, wb[sheet]['D'+str(i)].value\n",
    "        \n",
    "        if doi is not None or citation is not None:  \n",
    "            if doi:\n",
    "                value = doi.strip()\n",
    "            else:\n",
    "                value = citation.strip()\n",
    "                \n",
    "            if not prj_map.get(sheet):\n",
    "                prj_map[sheet] = [value]\n",
    "            else:\n",
    "                prj_map[sheet].append(value)\n",
    "            i+=1\n",
    "        else:\n",
    "            print(\".\", end=\"\")\n",
    "            break\n",
    "            "
   ]
  },
  {
   "cell_type": "code",
   "execution_count": 4,
   "id": "e47aeb68-4c08-4344-90af-7b7a0019eb83",
   "metadata": {},
   "outputs": [],
   "source": [
    "import pandas as pd\n",
    "eco_names = \\\n",
    "    pd.read_csv(\"../outputs/eco_funded_project_list.tsv\", sep='\\t')"
   ]
  },
  {
   "cell_type": "code",
   "execution_count": 5,
   "id": "b34dc453-234e-4407-a800-33f2caf5fea2",
   "metadata": {},
   "outputs": [],
   "source": [
    "eco_names['crosswalk'] = eco_names.program \\\n",
    "    .str.replace(\":\", \"\") \\\n",
    "    .str[:15] \\\n",
    "    .str.lower()"
   ]
  },
  {
   "cell_type": "code",
   "execution_count": 6,
   "id": "65c4595d-a54b-4f79-b4a5-20fc69f6e045",
   "metadata": {},
   "outputs": [
    {
     "data": {
      "text/html": [
       "<div>\n",
       "<style scoped>\n",
       "    .dataframe tbody tr th:only-of-type {\n",
       "        vertical-align: middle;\n",
       "    }\n",
       "\n",
       "    .dataframe tbody tr th {\n",
       "        vertical-align: top;\n",
       "    }\n",
       "\n",
       "    .dataframe thead th {\n",
       "        text-align: right;\n",
       "    }\n",
       "</style>\n",
       "<table border=\"1\" class=\"dataframe\">\n",
       "  <thead>\n",
       "    <tr style=\"text-align: right;\">\n",
       "      <th></th>\n",
       "      <th>nsfid</th>\n",
       "      <th>shortname</th>\n",
       "      <th>program</th>\n",
       "      <th>crosswalk</th>\n",
       "    </tr>\n",
       "  </thead>\n",
       "  <tbody>\n",
       "    <tr>\n",
       "      <th>0</th>\n",
       "      <td>1324760</td>\n",
       "      <td>RCN</td>\n",
       "      <td>Building a Sediment Experimentalist Network (SEN)</td>\n",
       "      <td>building a sedi</td>\n",
       "    </tr>\n",
       "    <tr>\n",
       "      <th>1</th>\n",
       "      <td>1340233</td>\n",
       "      <td>Office</td>\n",
       "      <td>EarthCube Test Enterprise Governance: An Agile...</td>\n",
       "      <td>earthcube test</td>\n",
       "    </tr>\n",
       "    <tr>\n",
       "      <th>2</th>\n",
       "      <td>1340265</td>\n",
       "      <td>BB</td>\n",
       "      <td>EC3: Earth-Centered Communication for Cyberinf...</td>\n",
       "      <td>ec3 earth-cente</td>\n",
       "    </tr>\n",
       "    <tr>\n",
       "      <th>3</th>\n",
       "      <td>1340301</td>\n",
       "      <td>RCN</td>\n",
       "      <td>C4P: Collaboration and Cyberinfrastructure for...</td>\n",
       "      <td>c4p collaborati</td>\n",
       "    </tr>\n",
       "    <tr>\n",
       "      <th>4</th>\n",
       "      <td>1343661</td>\n",
       "      <td>CD</td>\n",
       "      <td>A Scalable Community Driven Architecture</td>\n",
       "      <td>a scalable comm</td>\n",
       "    </tr>\n",
       "  </tbody>\n",
       "</table>\n",
       "</div>"
      ],
      "text/plain": [
       "     nsfid shortname                                            program  \\\n",
       "0  1324760       RCN  Building a Sediment Experimentalist Network (SEN)   \n",
       "1  1340233    Office  EarthCube Test Enterprise Governance: An Agile...   \n",
       "2  1340265        BB  EC3: Earth-Centered Communication for Cyberinf...   \n",
       "3  1340301       RCN  C4P: Collaboration and Cyberinfrastructure for...   \n",
       "4  1343661        CD           A Scalable Community Driven Architecture   \n",
       "\n",
       "         crosswalk  \n",
       "0  building a sedi  \n",
       "1  earthcube test   \n",
       "2  ec3 earth-cente  \n",
       "3  c4p collaborati  \n",
       "4  a scalable comm  "
      ]
     },
     "execution_count": 6,
     "metadata": {},
     "output_type": "execute_result"
    }
   ],
   "source": [
    "eco_names.head()"
   ]
  },
  {
   "cell_type": "markdown",
   "id": "f90543b1-bc0a-4c02-8d51-4b9b7dcd445d",
   "metadata": {},
   "source": [
    "Using the NSF ID as the key, write the new files so they can ultimate be merged.  The unmatched file can be explored manually."
   ]
  },
  {
   "cell_type": "code",
   "execution_count": 7,
   "id": "8c0b3eaf-ac67-4176-9544-fa6b2dc5f1ed",
   "metadata": {},
   "outputs": [],
   "source": [
    "import re\n",
    "\n",
    "with open(\"../outputs/ec_survey_project_doi_mapping.tsv\", \"w\", encoding='utf=8') as fo1, \\\n",
    "     open(\"../outputs/ec_survey_project_unmatched.tsv\", \"w\", encoding='utf=8') as fo2:\n",
    "    fo1.write(f\"nsfid\\tdoi\\n\")\n",
    "    fo2.write(f\"nsfid\\tunmatched_citation\\n\")\n",
    "\n",
    "    for k, v in prj_map.items():\n",
    "        k_ = re.sub(r\"^\\d+-\", \"\", k)\n",
    "        nsfid = eco_names.query(f'crosswalk == \"{k_[:15].lower()}\"')['nsfid'].values[0]\n",
    "\n",
    "        if nsfid:\n",
    "            for i in v:\n",
    "                if i[:3].strip() == \"10.\":\n",
    "                    fo1.write(f\"{nsfid}\\t{i.strip().lower()}\\n\")\n",
    "                else:\n",
    "                    fo2.write(f\"{nsfid}\\t{i}\\n\")\n",
    "        else:\n",
    "            print(\"[warn]: nsfid not found\")"
   ]
  }
 ],
 "metadata": {
  "kernelspec": {
   "display_name": "Python 3 (ipykernel)",
   "language": "python",
   "name": "python3"
  },
  "language_info": {
   "codemirror_mode": {
    "name": "ipython",
    "version": 3
   },
   "file_extension": ".py",
   "mimetype": "text/x-python",
   "name": "python",
   "nbconvert_exporter": "python",
   "pygments_lexer": "ipython3",
   "version": "3.8.11"
  }
 },
 "nbformat": 4,
 "nbformat_minor": 5
}
