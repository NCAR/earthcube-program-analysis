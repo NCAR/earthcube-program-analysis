{
 "cells": [
  {
   "cell_type": "markdown",
   "id": "2b890e03-ae56-491f-b05e-4ab8dda109c5",
   "metadata": {},
   "source": [
    "# BASIC PUBLICATION ANALYSIS"
   ]
  },
  {
   "cell_type": "code",
   "execution_count": 1,
   "id": "f38eb189-2145-439a-bf46-9e9849879fd5",
   "metadata": {},
   "outputs": [],
   "source": [
    "import pandas as pd"
   ]
  },
  {
   "cell_type": "code",
   "execution_count": 2,
   "id": "287c87b6-3018-4778-943a-abbc3c96ceff",
   "metadata": {},
   "outputs": [],
   "source": [
    "df = pd.read_csv(\"../outputs/citations.tsv\", \\\n",
    "                 sep=\"\\t\", header=None)\n",
    "df.columns = ['nsfid', 'doi', 'cites']"
   ]
  },
  {
   "cell_type": "code",
   "execution_count": 3,
   "id": "c616fd26-7106-4956-a449-c7467636d8b7",
   "metadata": {},
   "outputs": [],
   "source": [
    "df.doi = df.doi.str.lower()\n",
    "df_clean = df.drop_duplicates(subset='doi')\n",
    "df_clean = df_clean.query('cites>-1')"
   ]
  },
  {
   "cell_type": "code",
   "execution_count": 4,
   "id": "a63c29f4-f314-40b9-b336-4cb97c1256cc",
   "metadata": {},
   "outputs": [
    {
     "data": {
      "text/plain": [
       "count    245.000000\n",
       "mean      18.126531\n",
       "std       43.525717\n",
       "min        0.000000\n",
       "25%        2.000000\n",
       "50%        6.000000\n",
       "75%       17.000000\n",
       "max      388.000000\n",
       "Name: cites, dtype: float64"
      ]
     },
     "execution_count": 4,
     "metadata": {},
     "output_type": "execute_result"
    }
   ],
   "source": [
    "df_clean.cites.describe()"
   ]
  },
  {
   "cell_type": "code",
   "execution_count": 5,
   "id": "9735c8a5-dc4c-4031-be8d-6ff025851b28",
   "metadata": {},
   "outputs": [
    {
     "data": {
      "text/plain": [
       "4441"
      ]
     },
     "execution_count": 5,
     "metadata": {},
     "output_type": "execute_result"
    }
   ],
   "source": [
    "total_citations = df_clean.cites.sum()\n",
    "total_citations"
   ]
  },
  {
   "cell_type": "code",
   "execution_count": 6,
   "id": "77fd484f-4a85-4b65-9c25-b7297a2fa7e9",
   "metadata": {},
   "outputs": [
    {
     "data": {
      "text/html": [
       "<div>\n",
       "<style scoped>\n",
       "    .dataframe tbody tr th:only-of-type {\n",
       "        vertical-align: middle;\n",
       "    }\n",
       "\n",
       "    .dataframe tbody tr th {\n",
       "        vertical-align: top;\n",
       "    }\n",
       "\n",
       "    .dataframe thead th {\n",
       "        text-align: right;\n",
       "    }\n",
       "</style>\n",
       "<table border=\"1\" class=\"dataframe\">\n",
       "  <thead>\n",
       "    <tr style=\"text-align: right;\">\n",
       "      <th></th>\n",
       "      <th>nsfid</th>\n",
       "      <th>doi</th>\n",
       "      <th>cites</th>\n",
       "    </tr>\n",
       "  </thead>\n",
       "  <tbody>\n",
       "    <tr>\n",
       "      <th>0</th>\n",
       "      <td>1324760</td>\n",
       "      <td>10.1016/j.geomorph.2015.03.039</td>\n",
       "      <td>19</td>\n",
       "    </tr>\n",
       "    <tr>\n",
       "      <th>2</th>\n",
       "      <td>1324760</td>\n",
       "      <td>10.2110/sedred.2013.4.9</td>\n",
       "      <td>2</td>\n",
       "    </tr>\n",
       "    <tr>\n",
       "      <th>3</th>\n",
       "      <td>1324760</td>\n",
       "      <td>10.2110/sedred.2013.4</td>\n",
       "      <td>0</td>\n",
       "    </tr>\n",
       "    <tr>\n",
       "      <th>4</th>\n",
       "      <td>1324760</td>\n",
       "      <td>10.1029/2021ef002088</td>\n",
       "      <td>0</td>\n",
       "    </tr>\n",
       "    <tr>\n",
       "      <th>5</th>\n",
       "      <td>1324760</td>\n",
       "      <td>10.1029/2017jf004576</td>\n",
       "      <td>10</td>\n",
       "    </tr>\n",
       "  </tbody>\n",
       "</table>\n",
       "</div>"
      ],
      "text/plain": [
       "     nsfid                             doi  cites\n",
       "0  1324760  10.1016/j.geomorph.2015.03.039     19\n",
       "2  1324760         10.2110/sedred.2013.4.9      2\n",
       "3  1324760           10.2110/sedred.2013.4      0\n",
       "4  1324760            10.1029/2021ef002088      0\n",
       "5  1324760            10.1029/2017jf004576     10"
      ]
     },
     "execution_count": 6,
     "metadata": {},
     "output_type": "execute_result"
    }
   ],
   "source": [
    "df_clean.head()"
   ]
  },
  {
   "cell_type": "code",
   "execution_count": 7,
   "id": "d44eba40-4d39-4fd1-8d43-b8b7bea904ba",
   "metadata": {},
   "outputs": [
    {
     "data": {
      "text/plain": [
       "0.4217518576897095"
      ]
     },
     "execution_count": 7,
     "metadata": {},
     "output_type": "execute_result"
    }
   ],
   "source": [
    "df_clean.sort_values(by='cites', ascending=False)[:10]['cites'].sum() / total_citations"
   ]
  },
  {
   "cell_type": "code",
   "execution_count": 8,
   "id": "389fe009-62d4-4f73-96a5-cc850fba73ed",
   "metadata": {},
   "outputs": [
    {
     "data": {
      "text/html": [
       "<div>\n",
       "<style scoped>\n",
       "    .dataframe tbody tr th:only-of-type {\n",
       "        vertical-align: middle;\n",
       "    }\n",
       "\n",
       "    .dataframe tbody tr th {\n",
       "        vertical-align: top;\n",
       "    }\n",
       "\n",
       "    .dataframe thead th {\n",
       "        text-align: right;\n",
       "    }\n",
       "</style>\n",
       "<table border=\"1\" class=\"dataframe\">\n",
       "  <thead>\n",
       "    <tr style=\"text-align: right;\">\n",
       "      <th></th>\n",
       "      <th>nsfid</th>\n",
       "      <th>doi</th>\n",
       "      <th>cites</th>\n",
       "    </tr>\n",
       "  </thead>\n",
       "  <tbody>\n",
       "    <tr>\n",
       "      <th>153</th>\n",
       "      <td>1541039</td>\n",
       "      <td>10.1080/17538947.2016.1239771</td>\n",
       "      <td>388</td>\n",
       "    </tr>\n",
       "  </tbody>\n",
       "</table>\n",
       "</div>"
      ],
      "text/plain": [
       "       nsfid                            doi  cites\n",
       "153  1541039  10.1080/17538947.2016.1239771    388"
      ]
     },
     "execution_count": 8,
     "metadata": {},
     "output_type": "execute_result"
    }
   ],
   "source": [
    "df_clean.sort_values(by='cites', ascending=False)[:1]"
   ]
  },
  {
   "cell_type": "markdown",
   "id": "881bd660-404e-43ab-95f1-ca2be264ce13",
   "metadata": {},
   "source": [
    "## Citations without cite data"
   ]
  },
  {
   "cell_type": "markdown",
   "id": "0139746a-0bd3-47a7-aeeb-2f3b05265db0",
   "metadata": {},
   "source": [
    "These are the citations to watch for as they may have a problem or be in DataCite.  The [notebook here](./01_basic_datacite_analysis.ipynb) explores these further."
   ]
  },
  {
   "cell_type": "code",
   "execution_count": 9,
   "id": "c9d3bdb4-bed0-4de1-9f53-d1aa879e6391",
   "metadata": {
    "tags": []
   },
   "outputs": [
    {
     "data": {
      "text/html": [
       "<div>\n",
       "<style scoped>\n",
       "    .dataframe tbody tr th:only-of-type {\n",
       "        vertical-align: middle;\n",
       "    }\n",
       "\n",
       "    .dataframe tbody tr th {\n",
       "        vertical-align: top;\n",
       "    }\n",
       "\n",
       "    .dataframe thead th {\n",
       "        text-align: right;\n",
       "    }\n",
       "</style>\n",
       "<table border=\"1\" class=\"dataframe\">\n",
       "  <thead>\n",
       "    <tr style=\"text-align: right;\">\n",
       "      <th></th>\n",
       "      <th>nsfid</th>\n",
       "      <th>doi</th>\n",
       "      <th>cites</th>\n",
       "    </tr>\n",
       "  </thead>\n",
       "  <tbody>\n",
       "    <tr>\n",
       "      <th>117</th>\n",
       "      <td>1440351</td>\n",
       "      <td>10.1594/ieda/100709</td>\n",
       "      <td>-1</td>\n",
       "    </tr>\n",
       "    <tr>\n",
       "      <th>118</th>\n",
       "      <td>1440351</td>\n",
       "      <td>10.1594/ieda/100691</td>\n",
       "      <td>-1</td>\n",
       "    </tr>\n",
       "    <tr>\n",
       "      <th>121</th>\n",
       "      <td>1440351</td>\n",
       "      <td>10.6084/m9.figshare.4272164.v1</td>\n",
       "      <td>-1</td>\n",
       "    </tr>\n",
       "    <tr>\n",
       "      <th>205</th>\n",
       "      <td>1541390</td>\n",
       "      <td>10.18739/a24m9198b</td>\n",
       "      <td>-1</td>\n",
       "    </tr>\n",
       "    <tr>\n",
       "      <th>220</th>\n",
       "      <td>1639683</td>\n",
       "      <td>10.6084/m9.figshare.14848713.v1</td>\n",
       "      <td>-1</td>\n",
       "    </tr>\n",
       "    <tr>\n",
       "      <th>253</th>\n",
       "      <td>1639759</td>\n",
       "      <td>10.5555/3319379.3319381</td>\n",
       "      <td>-1</td>\n",
       "    </tr>\n",
       "    <tr>\n",
       "      <th>261</th>\n",
       "      <td>1639764</td>\n",
       "      <td>10.1594/pangaea.892680</td>\n",
       "      <td>-1</td>\n",
       "    </tr>\n",
       "    <tr>\n",
       "      <th>262</th>\n",
       "      <td>1639557</td>\n",
       "      <td>10.1594/pangaea.892680</td>\n",
       "      <td>-1</td>\n",
       "    </tr>\n",
       "    <tr>\n",
       "      <th>323</th>\n",
       "      <td>1928406</td>\n",
       "      <td>10.5281/zenodo.5496306</td>\n",
       "      <td>-1</td>\n",
       "    </tr>\n",
       "    <tr>\n",
       "      <th>350</th>\n",
       "      <td>1440066</td>\n",
       "      <td>10.13140/rg.2.1.4908.4561</td>\n",
       "      <td>-1</td>\n",
       "    </tr>\n",
       "    <tr>\n",
       "      <th>353</th>\n",
       "      <td>1928393</td>\n",
       "      <td>10.5281/zenodo.4558266</td>\n",
       "      <td>-1</td>\n",
       "    </tr>\n",
       "    <tr>\n",
       "      <th>354</th>\n",
       "      <td>1928393</td>\n",
       "      <td>10.5281/zenodo.6369184</td>\n",
       "      <td>-1</td>\n",
       "    </tr>\n",
       "    <tr>\n",
       "      <th>355</th>\n",
       "      <td>1639694</td>\n",
       "      <td>10.5065/p2jj-9878</td>\n",
       "      <td>-1</td>\n",
       "    </tr>\n",
       "  </tbody>\n",
       "</table>\n",
       "</div>"
      ],
      "text/plain": [
       "       nsfid                              doi  cites\n",
       "117  1440351              10.1594/ieda/100709     -1\n",
       "118  1440351              10.1594/ieda/100691     -1\n",
       "121  1440351   10.6084/m9.figshare.4272164.v1     -1\n",
       "205  1541390               10.18739/a24m9198b     -1\n",
       "220  1639683  10.6084/m9.figshare.14848713.v1     -1\n",
       "253  1639759          10.5555/3319379.3319381     -1\n",
       "261  1639764           10.1594/pangaea.892680     -1\n",
       "262  1639557           10.1594/pangaea.892680     -1\n",
       "323  1928406           10.5281/zenodo.5496306     -1\n",
       "350  1440066        10.13140/rg.2.1.4908.4561     -1\n",
       "353  1928393           10.5281/zenodo.4558266     -1\n",
       "354  1928393           10.5281/zenodo.6369184     -1\n",
       "355  1639694                10.5065/p2jj-9878     -1"
      ]
     },
     "execution_count": 9,
     "metadata": {},
     "output_type": "execute_result"
    }
   ],
   "source": [
    "df.query(\"cites <0\")"
   ]
  },
  {
   "cell_type": "markdown",
   "id": "47097a71-2e34-4c0c-ac0f-99a663020b3c",
   "metadata": {
    "tags": []
   },
   "source": [
    "### TOP 10 MOST CITED PAPERS"
   ]
  },
  {
   "cell_type": "code",
   "execution_count": 10,
   "id": "60a96a1f-858d-4b36-8c57-30c1d235fef0",
   "metadata": {},
   "outputs": [],
   "source": [
    "import json\n",
    "json_nsf = json.load(open(\"../outputs/full_data_map.json\"))"
   ]
  },
  {
   "cell_type": "code",
   "execution_count": 11,
   "id": "a2438e59-40c2-4cc5-a817-f87e2365abed",
   "metadata": {},
   "outputs": [],
   "source": [
    "df_json = pd.DataFrame(columns=['doi', 'ams_bib'])\n",
    "\n",
    "for k in json_nsf.keys():\n",
    "    for r in json_nsf[k]:\n",
    "        if r['doi'] and r.get('ams_bib'):\n",
    "            df_json = pd.concat([df_json, pd.DataFrame([[r['doi'], r['ams_bib'].strip()]], columns=['doi', 'ams_bib'])], axis=0)\n",
    "\n",
    "df_json = df_json.reset_index().drop('index', axis=1).drop_duplicates()\n",
    "df_json.doi = df_json.doi.str.lower()"
   ]
  },
  {
   "cell_type": "code",
   "execution_count": 12,
   "id": "4e293b67-5963-4ad9-9015-c2cd58f68313",
   "metadata": {},
   "outputs": [],
   "source": [
    "all_cites = \\\n",
    "    df\\\n",
    "    .drop_duplicates(subset='doi')\\\n",
    "    .sort_values(by='cites', ascending=False)[:]\\\n",
    "    [['doi', 'cites']]"
   ]
  },
  {
   "cell_type": "code",
   "execution_count": 13,
   "id": "9573fba6-f55f-4836-8bf0-00acae16d8a0",
   "metadata": {},
   "outputs": [],
   "source": [
    "top10_most_cites = \\\n",
    "    df\\\n",
    "    .drop_duplicates(subset='doi')\\\n",
    "    .sort_values(by='cites', ascending=False)[:10]\\\n",
    "    [['doi', 'cites']]"
   ]
  },
  {
   "cell_type": "code",
   "execution_count": 14,
   "id": "dc4c014c-35b3-4b8e-bb0b-3233a9e6f2cf",
   "metadata": {},
   "outputs": [
    {
     "data": {
      "text/html": [
       "<div>\n",
       "<style scoped>\n",
       "    .dataframe tbody tr th:only-of-type {\n",
       "        vertical-align: middle;\n",
       "    }\n",
       "\n",
       "    .dataframe tbody tr th {\n",
       "        vertical-align: top;\n",
       "    }\n",
       "\n",
       "    .dataframe thead th {\n",
       "        text-align: right;\n",
       "    }\n",
       "</style>\n",
       "<table border=\"1\" class=\"dataframe\">\n",
       "  <thead>\n",
       "    <tr style=\"text-align: right;\">\n",
       "      <th></th>\n",
       "      <th>doi</th>\n",
       "      <th>cites</th>\n",
       "    </tr>\n",
       "  </thead>\n",
       "  <tbody>\n",
       "    <tr>\n",
       "      <th>153</th>\n",
       "      <td>10.1080/17538947.2016.1239771</td>\n",
       "      <td>388</td>\n",
       "    </tr>\n",
       "    <tr>\n",
       "      <th>204</th>\n",
       "      <td>10.1002/2017gl074954</td>\n",
       "      <td>364</td>\n",
       "    </tr>\n",
       "    <tr>\n",
       "      <th>212</th>\n",
       "      <td>10.1038/nbt.4306</td>\n",
       "      <td>247</td>\n",
       "    </tr>\n",
       "    <tr>\n",
       "      <th>143</th>\n",
       "      <td>10.1038/sdata.2017.88</td>\n",
       "      <td>192</td>\n",
       "    </tr>\n",
       "    <tr>\n",
       "      <th>229</th>\n",
       "      <td>10.1016/j.renene.2017.02.052</td>\n",
       "      <td>145</td>\n",
       "    </tr>\n",
       "    <tr>\n",
       "      <th>125</th>\n",
       "      <td>10.1017/qua.2017.105</td>\n",
       "      <td>143</td>\n",
       "    </tr>\n",
       "    <tr>\n",
       "      <th>156</th>\n",
       "      <td>10.1016/j.compenvurbsys.2016.10.010</td>\n",
       "      <td>115</td>\n",
       "    </tr>\n",
       "    <tr>\n",
       "      <th>124</th>\n",
       "      <td>10.1093/biosci/biy068</td>\n",
       "      <td>102</td>\n",
       "    </tr>\n",
       "    <tr>\n",
       "      <th>100</th>\n",
       "      <td>10.1002/2015ea000136</td>\n",
       "      <td>98</td>\n",
       "    </tr>\n",
       "    <tr>\n",
       "      <th>27</th>\n",
       "      <td>10.2134/jeq2014.05.0220</td>\n",
       "      <td>79</td>\n",
       "    </tr>\n",
       "  </tbody>\n",
       "</table>\n",
       "</div>"
      ],
      "text/plain": [
       "                                     doi  cites\n",
       "153        10.1080/17538947.2016.1239771    388\n",
       "204                 10.1002/2017gl074954    364\n",
       "212                     10.1038/nbt.4306    247\n",
       "143                10.1038/sdata.2017.88    192\n",
       "229         10.1016/j.renene.2017.02.052    145\n",
       "125                 10.1017/qua.2017.105    143\n",
       "156  10.1016/j.compenvurbsys.2016.10.010    115\n",
       "124                10.1093/biosci/biy068    102\n",
       "100                 10.1002/2015ea000136     98\n",
       "27               10.2134/jeq2014.05.0220     79"
      ]
     },
     "execution_count": 14,
     "metadata": {},
     "output_type": "execute_result"
    }
   ],
   "source": [
    "top10_most_cites"
   ]
  },
  {
   "cell_type": "code",
   "execution_count": 15,
   "id": "36abe34c-60de-4028-bdee-ee1782094814",
   "metadata": {},
   "outputs": [],
   "source": [
    "df_citations = pd.read_csv(\"../outputs/full_nsf_doi_project_summary.tsv\", sep='\\t', header=None)\n",
    "\n",
    "df_citations = df_citations[[1,3]]\n",
    "df_citations = df_citations.drop_duplicates()\n",
    "\n",
    "df_citations.index = df_citations[1]\n",
    "df_citations = df_citations.drop(1, axis=1)\n",
    "\n",
    "df_citations.columns = ['citation']"
   ]
  },
  {
   "cell_type": "code",
   "execution_count": 16,
   "id": "ba467ce2-a01f-4559-a95a-6338ea3edf20",
   "metadata": {},
   "outputs": [
    {
     "data": {
      "text/html": [
       "<div>\n",
       "<style scoped>\n",
       "    .dataframe tbody tr th:only-of-type {\n",
       "        vertical-align: middle;\n",
       "    }\n",
       "\n",
       "    .dataframe tbody tr th {\n",
       "        vertical-align: top;\n",
       "    }\n",
       "\n",
       "    .dataframe thead th {\n",
       "        text-align: right;\n",
       "    }\n",
       "</style>\n",
       "<table border=\"1\" class=\"dataframe\">\n",
       "  <thead>\n",
       "    <tr style=\"text-align: right;\">\n",
       "      <th></th>\n",
       "      <th>index</th>\n",
       "      <th>doi</th>\n",
       "      <th>cites</th>\n",
       "    </tr>\n",
       "  </thead>\n",
       "  <tbody>\n",
       "    <tr>\n",
       "      <th>0</th>\n",
       "      <td>153</td>\n",
       "      <td>10.1080/17538947.2016.1239771</td>\n",
       "      <td>388</td>\n",
       "    </tr>\n",
       "    <tr>\n",
       "      <th>1</th>\n",
       "      <td>204</td>\n",
       "      <td>10.1002/2017gl074954</td>\n",
       "      <td>364</td>\n",
       "    </tr>\n",
       "    <tr>\n",
       "      <th>2</th>\n",
       "      <td>212</td>\n",
       "      <td>10.1038/nbt.4306</td>\n",
       "      <td>247</td>\n",
       "    </tr>\n",
       "    <tr>\n",
       "      <th>3</th>\n",
       "      <td>143</td>\n",
       "      <td>10.1038/sdata.2017.88</td>\n",
       "      <td>192</td>\n",
       "    </tr>\n",
       "    <tr>\n",
       "      <th>4</th>\n",
       "      <td>229</td>\n",
       "      <td>10.1016/j.renene.2017.02.052</td>\n",
       "      <td>145</td>\n",
       "    </tr>\n",
       "    <tr>\n",
       "      <th>5</th>\n",
       "      <td>125</td>\n",
       "      <td>10.1017/qua.2017.105</td>\n",
       "      <td>143</td>\n",
       "    </tr>\n",
       "    <tr>\n",
       "      <th>6</th>\n",
       "      <td>156</td>\n",
       "      <td>10.1016/j.compenvurbsys.2016.10.010</td>\n",
       "      <td>115</td>\n",
       "    </tr>\n",
       "    <tr>\n",
       "      <th>7</th>\n",
       "      <td>124</td>\n",
       "      <td>10.1093/biosci/biy068</td>\n",
       "      <td>102</td>\n",
       "    </tr>\n",
       "    <tr>\n",
       "      <th>8</th>\n",
       "      <td>100</td>\n",
       "      <td>10.1002/2015ea000136</td>\n",
       "      <td>98</td>\n",
       "    </tr>\n",
       "    <tr>\n",
       "      <th>9</th>\n",
       "      <td>27</td>\n",
       "      <td>10.2134/jeq2014.05.0220</td>\n",
       "      <td>79</td>\n",
       "    </tr>\n",
       "  </tbody>\n",
       "</table>\n",
       "</div>"
      ],
      "text/plain": [
       "   index                                  doi  cites\n",
       "0    153        10.1080/17538947.2016.1239771    388\n",
       "1    204                 10.1002/2017gl074954    364\n",
       "2    212                     10.1038/nbt.4306    247\n",
       "3    143                10.1038/sdata.2017.88    192\n",
       "4    229         10.1016/j.renene.2017.02.052    145\n",
       "5    125                 10.1017/qua.2017.105    143\n",
       "6    156  10.1016/j.compenvurbsys.2016.10.010    115\n",
       "7    124                10.1093/biosci/biy068    102\n",
       "8    100                 10.1002/2015ea000136     98\n",
       "9     27              10.2134/jeq2014.05.0220     79"
      ]
     },
     "execution_count": 16,
     "metadata": {},
     "output_type": "execute_result"
    }
   ],
   "source": [
    "top10_most_cites.reset_index()# = top10_most_cites"
   ]
  },
  {
   "cell_type": "code",
   "execution_count": 17,
   "id": "673e689d-f953-466d-b767-2c402d92aca4",
   "metadata": {},
   "outputs": [],
   "source": [
    "top10_most_cites.index = top10_most_cites.doi\n",
    "top10_most_cites = top10_most_cites.drop(['doi'], axis=1)\n",
    "top10_merged = \\\n",
    "    top10_most_cites.merge(df_citations, left_index=True, right_index=True)\\\n",
    "            [['cites', 'citation']]\n",
    "\n",
    "top10_merged.index.set_names('DOI')\n",
    "with open(\"../outputs/top10_pubs_simple.md\", \"w\", encoding='utf-8') as fo:\n",
    "    fo.write( \n",
    "        top10_merged.to_markdown(index=True)\n",
    "    )\n",
    "\n",
    "top10_merged.to_csv(\"../outputs/top10_pubs_simple.csv\", index=False)"
   ]
  },
  {
   "cell_type": "code",
   "execution_count": 18,
   "id": "c4cdafc1-4649-4a2d-8ba0-aa9c37c71878",
   "metadata": {},
   "outputs": [],
   "source": [
    "all_cites.index = all_cites.doi\n",
    "all_cites = all_cites.drop(['doi'], axis=1)\n",
    "all_cites_merged = \\\n",
    "    all_cites.merge(df_citations, left_index=True, right_index=True)\\\n",
    "            [['cites', 'citation']]\n",
    "\n",
    "with open(\"../outputs/all_pubs_simple.md\", \"w\", encoding='utf-8') as fo:\n",
    "    fo.write( \n",
    "        all_cites_merged.to_markdown(index=False)\n",
    "    )\n",
    "    \n",
    "all_cites_merged.to_csv(\"../outputs/all_pubs_simple.csv\", index=False)"
   ]
  },
  {
   "cell_type": "markdown",
   "id": "f2863900-1d27-48ce-86ef-ee220f1dfe10",
   "metadata": {},
   "source": [
    "### PUBLICATION FREQUENCY COUNTS"
   ]
  },
  {
   "cell_type": "code",
   "execution_count": 19,
   "id": "b0075886-ee91-4c5a-85ff-e792bc9fa061",
   "metadata": {},
   "outputs": [],
   "source": [
    "# graph\n",
    "df = pd.read_csv(\"../outputs/full_nsf_doi_project_summary.tsv\",sep='\\t').query('cites>-1')\\\n",
    "    .drop_duplicates(subset='doi')"
   ]
  },
  {
   "cell_type": "code",
   "execution_count": 20,
   "id": "f63260ab-6e8c-47ee-8780-ab92aacf00dc",
   "metadata": {},
   "outputs": [
    {
     "data": {
      "text/plain": [
       "92"
      ]
     },
     "execution_count": 20,
     "metadata": {},
     "output_type": "execute_result"
    }
   ],
   "source": [
    "df.cites.value_counts().sort_index()[10:].sum()"
   ]
  },
  {
   "cell_type": "code",
   "execution_count": 21,
   "id": "47dc3042-337c-4d58-8944-931c2a5270ea",
   "metadata": {},
   "outputs": [
    {
     "data": {
      "image/png": "[encoded data removed]",
      "text/plain": [
       "<Figure size 640x480 with 1 Axes>"
      ]
     },
     "metadata": {},
     "output_type": "display_data"
    }
   ],
   "source": [
    "ax = df.query('year != \"None\"').year.value_counts().sort_index()\\\n",
    "    .plot.bar(rot=45, title='EC Reported Publication Counts by Year', edgecolor='white', linewidth=2)\n",
    "\n",
    "for container in ax.containers:\n",
    "    ax.bar_label(container,  padding=2, fontsize=6)\n",
    "    \n",
    "ax.get_figure().savefig(\"../outputs/fig_publications_by_year.png\", dpi=300)"
   ]
  },
  {
   "cell_type": "code",
   "execution_count": 22,
   "id": "9445ea97-2fd5-4a3a-9d3a-65f93a40adc4",
   "metadata": {},
   "outputs": [
    {
     "data": {
      "image/png": "[encoded data removed]",
      "text/plain": [
       "<Figure size 640x480 with 1 Axes>"
      ]
     },
     "metadata": {},
     "output_type": "display_data"
    }
   ],
   "source": [
    "ax = pd.cut(df.cites, [-1,9,30,100,1000], labels=[\"<10\",\"10-29\", \"30-99\", \">99\"])\\\n",
    "    .value_counts().sort_index()\\\n",
    "    .plot.bar(rot=0, xlabel=\"Citation count\", ylabel=\"Publication Count\", title=\"EC Publication Frequency\")\n",
    "\n",
    "for container in ax.containers:\n",
    "    ax.bar_label(container,  padding=2, fontsize=6)\n",
    "    \n",
    "ax.get_figure().savefig(\"../outputs/fig_publications_citation_density.png\", dpi=300)"
   ]
  }
 ],
 "metadata": {
  "kernelspec": {
   "display_name": "Python 3 (ipykernel)",
   "language": "python",
   "name": "python3"
  },
  "language_info": {
   "codemirror_mode": {
    "name": "ipython",
    "version": 3
   },
   "file_extension": ".py",
   "mimetype": "text/x-python",
   "name": "python",
   "nbconvert_exporter": "python",
   "pygments_lexer": "ipython3",
   "version": "3.8.11"
  }
 },
 "nbformat": 4,
 "nbformat_minor": 5
}
