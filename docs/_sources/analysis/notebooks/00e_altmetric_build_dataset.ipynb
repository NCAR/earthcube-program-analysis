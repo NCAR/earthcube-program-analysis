{
 "cells": [
  {
   "cell_type": "markdown",
   "id": "672f8807-3432-49d2-9eee-d4b9128c02c2",
   "metadata": {},
   "source": [
    "# Altmetric Data Download"
   ]
  },
  {
   "cell_type": "markdown",
   "id": "e8479fb4-8a11-4964-ac86-d4339901f6e2",
   "metadata": {},
   "source": [
    "This notebook downloads altmetric data and outputs the file\n",
    "\n",
    "* [`../outputs/altmetric_metadata.json`](../outputs/altmetric_metadata.json)\n",
    "\n",
    "\n",
    "It also builds a convenience file \n",
    "\n",
    "* [`../outputs/altmetric_scores.tsv`](../outputs/altmetric_scores.tsv)\n",
    "\n",
    "which might be more useful to load just DOI and score mappings for other purposes.  **See [notebook `01_basic_altmetric_analysis.ipynb`](01_basic_altmetric_analysis.ipynb)** for usage and analysis.\n",
    " "
   ]
  },
  {
   "cell_type": "code",
   "execution_count": 1,
   "id": "3bf84620-df76-475b-8005-19c47e44fe98",
   "metadata": {},
   "outputs": [],
   "source": [
    "import altmetric\n",
    "import pandas as pd\n",
    "import time\n",
    "import json"
   ]
  },
  {
   "cell_type": "markdown",
   "id": "e3237223-58ad-44cd-b32a-5306e3c70c6b",
   "metadata": {},
   "source": [
    "## Build `.json` Altmetric metadata file"
   ]
  },
  {
   "cell_type": "code",
   "execution_count": 2,
   "id": "10751b3e-12f4-474a-8dec-1219496894c8",
   "metadata": {},
   "outputs": [
    {
     "name": "stdout",
     "output_type": "stream",
     "text": [
      ".......................................................................................................................................................................................................................................CPU times: total: 4.58 s\n",
      "Wall time: 13min 40s\n"
     ]
    }
   ],
   "source": [
    "%%time\n",
    "BE_NICE = 1.5\n",
    "doi_map = {}\n",
    "\n",
    "# load doi list to work with\n",
    "doi_list = pd.read_csv(\"../outputs/citations.tsv\", sep='\\t', header=None)[1].str.lower().unique().tolist()\n",
    "\n",
    "# build the doi:metadata mapping\n",
    "for doi in doi_list:\n",
    "    data = altmetric.get_metadata(doi)\n",
    "    \n",
    "    if data:\n",
    "        doi_map[doi] = data\n",
    "    else:\n",
    "        doi_map[doi] = None\n",
    "        \n",
    "    time.sleep(BE_NICE)\n",
    "    print(\".\", end=\"\")\n",
    "\n",
    "# store mapping to JSON\n",
    "json.dump(doi_map, open(\"../outputs/altmetric_metadata.json\", \"w\", encoding='utf8'))"
   ]
  },
  {
   "cell_type": "markdown",
   "id": "2d5cc601-2ebf-452a-b692-0ba1f0955842",
   "metadata": {},
   "source": [
    "## Build `.tsv` scores file"
   ]
  },
  {
   "cell_type": "markdown",
   "id": "5bf3c227-77f8-4b74-a6fc-9d64065f0332",
   "metadata": {},
   "source": [
    "Verify data and write `.tsv` file with just scores and DOIs.\n",
    "* [../outputs/altmetric_scores.tsv](../outputs/altmetric_scores.tsv)"
   ]
  },
  {
   "cell_type": "code",
   "execution_count": 3,
   "id": "8397276a-e06b-48ab-aee9-3434ad5c0e17",
   "metadata": {},
   "outputs": [],
   "source": [
    "json_altmetric_data = \\\n",
    "    json.load(open(\"../outputs/altmetric_metadata.json\"))  "
   ]
  },
  {
   "cell_type": "code",
   "execution_count": 4,
   "id": "6e510ab7-4a9d-4ad7-a651-b8f05f40318b",
   "metadata": {},
   "outputs": [],
   "source": [
    "with open(\"../outputs/altmetric_scores.tsv\", \"w\") as fo:\n",
    "    \n",
    "    fo.write(\"doi\\taltmetric_score\\n\")\n",
    "    \n",
    "    for k in json_altmetric_data.keys():\n",
    "        try:\n",
    "            fo.write(f\"{k}\\t{json_altmetric_data[k].get('score', -1)}\")\n",
    "            fo.write(\"\\n\")\n",
    "        except:\n",
    "            pass"
   ]
  }
 ],
 "metadata": {
  "kernelspec": {
   "display_name": "Python 3 (ipykernel)",
   "language": "python",
   "name": "python3"
  },
  "language_info": {
   "codemirror_mode": {
    "name": "ipython",
    "version": 3
   },
   "file_extension": ".py",
   "mimetype": "text/x-python",
   "name": "python",
   "nbconvert_exporter": "python",
   "pygments_lexer": "ipython3",
   "version": "3.8.11"
  }
 },
 "nbformat": 4,
 "nbformat_minor": 5
}
